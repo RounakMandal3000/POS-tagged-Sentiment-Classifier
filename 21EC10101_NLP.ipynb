{
 "cells": [
  {
   "cell_type": "markdown",
   "id": "d1bfa629",
   "metadata": {},
   "source": [
    "# POS Tagging"
   ]
  },
  {
   "cell_type": "code",
   "execution_count": 1,
   "id": "67036c1f",
   "metadata": {},
   "outputs": [
    {
     "name": "stderr",
     "output_type": "stream",
     "text": [
      "[nltk_data] Downloading package treebank to\n",
      "[nltk_data]     C:\\Users\\rouna\\AppData\\Roaming\\nltk_data...\n",
      "[nltk_data]   Package treebank is already up-to-date!\n"
     ]
    },
    {
     "data": {
      "text/plain": [
       "True"
      ]
     },
     "execution_count": 1,
     "metadata": {},
     "output_type": "execute_result"
    }
   ],
   "source": [
    "#Importing the libraries\n",
    "\n",
    "import numpy as np\n",
    "import sklearn \n",
    "import nltk\n",
    "import pandas as pd\n",
    "from matplotlib import pyplot as plt\n",
    "from nltk.corpus import treebank\n",
    "# Download the required dataset\n",
    "nltk.download('treebank')"
   ]
  },
  {
   "cell_type": "code",
   "execution_count": 2,
   "id": "dab1a36e",
   "metadata": {},
   "outputs": [],
   "source": [
    "#Finding the tagged sentences from the treebank dataset\n",
    "treebank_sents = treebank.tagged_sents()"
   ]
  },
  {
   "cell_type": "code",
   "execution_count": 3,
   "id": "018c28ea",
   "metadata": {},
   "outputs": [
    {
     "data": {
      "text/plain": [
       "46"
      ]
     },
     "execution_count": 3,
     "metadata": {},
     "output_type": "execute_result"
    }
   ],
   "source": [
    "tags = [tag for sentence in treebank_sents for _, tag in sentence]\n",
    "unique_tags = set(tags)\n",
    "len(unique_tags)"
   ]
  },
  {
   "cell_type": "code",
   "execution_count": 4,
   "id": "dec37f22",
   "metadata": {},
   "outputs": [
    {
     "data": {
      "text/plain": [
       "12408"
      ]
     },
     "execution_count": 4,
     "metadata": {},
     "output_type": "execute_result"
    }
   ],
   "source": [
    "words = [tag for sentence in treebank_sents for tag, _ in sentence]\n",
    "unique_words = set(words)\n",
    "len(unique_words)"
   ]
  },
  {
   "cell_type": "code",
   "execution_count": 5,
   "id": "0b236c40",
   "metadata": {
    "scrolled": true
   },
   "outputs": [
    {
     "name": "stdout",
     "output_type": "stream",
     "text": [
      "NN Tags: {'NNS', 'NN', 'NNPS', 'NNP'}\n",
      "PRP Tags: {'PRP', 'PRP$'}\n",
      "VB Tags: {'VBP', 'VBN', 'MD', 'VBD', 'VB', 'VBG', 'VBZ'}\n",
      "ADJ Tags: {'JJR', 'JJ', 'JJS'}\n",
      "ADV Tags: {'RB', 'RBS', 'RBR'}\n",
      "PP Tags: {'IN'}\n",
      "CC Tags: {'CC'}\n",
      "IJ Tags: {'UH'}\n",
      "OTH Tags: {'$', 'SYM', '-LRB-', 'CD', 'TO', '-RRB-', 'PDT', ':', ',', 'WRB', '``', '-NONE-', 'LS', '#', 'WP$', 'RP', 'WP', 'FW', 'POS', '.', 'EX', 'WDT', \"''\"}\n"
     ]
    }
   ],
   "source": [
    "# Provided set of POS tags\n",
    "pos_tags = unique_tags.copy()\n",
    "\n",
    "# Initialize dictionaries to categorize the tags\n",
    "categories = {\n",
    "    'NN': {'NN', 'NNP', 'NNPS', 'NNS'},\n",
    "    'PRP': {'PRP', 'PRP$'},\n",
    "    'VB': {'VB', 'VBD', 'VBG', 'VBN', 'VBP', 'VBZ', 'MD'},\n",
    "    'ADJ': {'JJ', 'JJR', 'JJS'},\n",
    "    'ADV': {'RB', 'RBR', 'RBS'},\n",
    "    'PP': {'IN'},\n",
    "    'CC': {'CC'},\n",
    "    'IJ': {'UH'},\n",
    "    'OTH': {'#', '$', \"''\", ',', '-LRB-', '-NONE-', '-RRB-', ':','.', 'EX', 'FW', 'LS', 'CD', 'PDT', 'POS', 'RP', 'SYM', 'TO', '``', 'WDT', 'WP', 'WP$', 'WRB'},\n",
    "}\n",
    "\n",
    "# Initialize dictionaries to store categorized tags\n",
    "categorized_tags = {category: set() for category in categories.keys()}\n",
    "\n",
    "# Categorize the tags\n",
    "for tag in pos_tags:\n",
    "    for category, tag_set in categories.items():\n",
    "        if tag in tag_set:\n",
    "            categorized_tags[category].add(tag)\n",
    "\n",
    "# Print the categorized tags\n",
    "for category, tags in categorized_tags.items():\n",
    "    print(f'{category} Tags:', tags)\n"
   ]
  },
  {
   "cell_type": "code",
   "execution_count": 6,
   "id": "2e41f7be",
   "metadata": {},
   "outputs": [],
   "source": [
    "#Changing original tags to custom tags\n",
    "new_treebank_sents = []\n",
    "for i, sentence in enumerate(treebank_sents):\n",
    "    words_and_changed_pos = [tuple(['', 'SOS'])]\n",
    "    p=0\n",
    "    for j, word in enumerate(sentence):\n",
    "        p=0\n",
    "\n",
    "        for key, value in categories.items():\n",
    "            if word[1] in value:\n",
    "                words_and_changed_pos.append(tuple([word[0], key]))\n",
    "                p=1\n",
    "        \n",
    "        if(p==0):\n",
    "            words_and_changed_pos.append(tuple([word[0], 'DIF']))\n",
    "    words_and_changed_pos.append(tuple(['', 'EOS']))\n",
    "    new_treebank_sents.append(words_and_changed_pos)"
   ]
  },
  {
   "cell_type": "code",
   "execution_count": 7,
   "id": "567bc843",
   "metadata": {},
   "outputs": [],
   "source": [
    "#dictionary to keep track of counts of tags\n",
    "final_tags = {\n",
    "    'SOS': 0,\n",
    "    'NN': 0,\n",
    "    'PRP': 0,\n",
    "    'VB': 0,\n",
    "    'ADJ': 0,\n",
    "    'ADV': 0,\n",
    "    'PP': 0,\n",
    "    'CC': 0,\n",
    "    'IJ': 0,\n",
    "    'OTH': 0,\n",
    "    'DIF': 0,\n",
    "    'EOS': 0,\n",
    "}\n",
    "\n",
    "for i, sentence in enumerate(new_treebank_sents):\n",
    "    for j, word in enumerate(sentence):\n",
    "        final_tags[word[1]]+=1;"
   ]
  },
  {
   "cell_type": "code",
   "execution_count": 8,
   "id": "1b6bdf64",
   "metadata": {},
   "outputs": [
    {
     "data": {
      "text/plain": [
       "{'SOS': 3914,\n",
       " 'NN': 28867,\n",
       " 'PRP': 2482,\n",
       " 'VB': 13564,\n",
       " 'ADJ': 6397,\n",
       " 'ADV': 2993,\n",
       " 'PP': 9857,\n",
       " 'CC': 2265,\n",
       " 'IJ': 3,\n",
       " 'OTH': 26083,\n",
       " 'DIF': 8165,\n",
       " 'EOS': 3914}"
      ]
     },
     "execution_count": 8,
     "metadata": {},
     "output_type": "execute_result"
    }
   ],
   "source": [
    "final_tags"
   ]
  },
  {
   "cell_type": "code",
   "execution_count": 9,
   "id": "9d5bb691",
   "metadata": {},
   "outputs": [],
   "source": [
    "dict_to_list = ['SOS',\n",
    "    'NN',\n",
    "    'PRP',\n",
    "    'VB',\n",
    "    'ADJ',\n",
    "    'ADV',\n",
    "    'PP',\n",
    "    'CC',\n",
    "    'IJ',\n",
    "    'OTH',\n",
    "    'DIF',\n",
    "    'EOS']"
   ]
  },
  {
   "cell_type": "code",
   "execution_count": 10,
   "id": "4cb33641",
   "metadata": {},
   "outputs": [],
   "source": [
    "emission_probs = {}\n",
    "transition_probs = {}"
   ]
  },
  {
   "cell_type": "code",
   "execution_count": 11,
   "id": "1f89da9c",
   "metadata": {},
   "outputs": [],
   "source": [
    "def transition_probability(tag1, tag2):\n",
    "    if(tuple[tag1, tag2] in transition_probs):          #if already t2->t2 is present return it\n",
    "        return transition_probs[tuple([tag1, tag2])]\n",
    "    else:    \n",
    "        count=0\n",
    "        for i, sentence in enumerate(new_treebank_sents):    #else go through the treebank dataset and find transition t1->t2\n",
    "            for j, word in enumerate(sentence):\n",
    "                if(j>0):\n",
    "                    if(new_treebank_sents[i][j-1][1]==tag1 and new_treebank_sents[i][j][1]==tag2):\n",
    "                        count+=1\n",
    "        transition_probs[tuple([tag1, tag2])] = count/final_tags[tag1]    #No smoothing needed since all combinations are already available\n",
    "        return transition_probs[tuple([tag1, tag2])]"
   ]
  },
  {
   "cell_type": "code",
   "execution_count": 12,
   "id": "7e89c264",
   "metadata": {},
   "outputs": [],
   "source": [
    "def emmision_probability(word_input, tag1, tag2='SOS', m=1, n=3):  \n",
    "    if(tuple[word_input, tag1] in emission_probs):        #if already w->t is present return it\n",
    "        return emission_probs[tuple[word_input, tag1]]\n",
    "    else:\n",
    "        count=0\n",
    "        for i, sentence in enumerate(new_treebank_sents):\n",
    "            for j, word in enumerate(sentence):\n",
    "                if(word[0]==word_input and word[1]==tag1):\n",
    "                    count+=1                                   #counting if (w,t) is present in corpus\n",
    "        if(tag1!='SOS' and (tag1=='NN' or tag1=='VB' or tag1=='ADJ' or tag1=='ADV')):\n",
    "            # Smoothing for the probabilities\n",
    "            # m is for counting number of Nouns, adjective, adverb and Verb since new words will be mostly from these 4 tags\n",
    "            # n is for counting probability of bigram transition, e.g chance of VB coming after noun is high, so emission probability should also be high\n",
    "            if(tag2!='SOS'):\n",
    "                emission_probs[tuple[word_input, tag1]] = (count+m*final_tags[tag1]/(final_tags['NN']+final_tags['VB']+final_tags['ADJ']+final_tags['ADV'])+n*transition_probability(tag2, tag1))/(final_tags[tag1]+m+n)\n",
    "            else:\n",
    "                n=0\n",
    "                emission_probs[tuple[word_input, tag1]] = (count+m*final_tags[tag1]/(final_tags['NN']+final_tags['VB']+final_tags['ADJ']+final_tags['ADV'])+n*transition_probability(tag2, tag1))/(final_tags[tag1]+m+n)\n",
    "        else:\n",
    "            m=0\n",
    "            n=0\n",
    "            emission_probs[tuple[word_input, tag1]] = count/final_tags[tag1]\n",
    "        \n",
    "        return emission_probs[tuple[word_input, tag1]]"
   ]
  },
  {
   "cell_type": "code",
   "execution_count": 13,
   "id": "87f00631",
   "metadata": {},
   "outputs": [],
   "source": [
    "import time\n",
    "start_time = time.time()"
   ]
  },
  {
   "cell_type": "code",
   "execution_count": 453,
   "id": "1740daeb",
   "metadata": {},
   "outputs": [
    {
     "data": {
      "text/plain": [
       "'def viterbi_algorithm(tokens):\\n    N = len(tokens)\\n    Ns = len(final_tags)\\n    \\n    path = []\\n    prev_row = []\\n    prev_num = []\\n    for i in range(0,N):\\n        arg_max_term=\\'SOS\\'\\n        max_term=1\\n        start_time = time.time()\\n        if(len(prev_row)):\\n            max_y = prev_row[0]\\n            arg_mac = 0\\n            b=0\\n            for term in prev_row:\\n                if(term>max_y):\\n                    max_y = term\\n                    arg_mac = prev_num[b]\\n                b+=1\\n            arg_max_term = dict_to_list[arg_mac]\\n            max_term = max_y\\n            prev_num=[]\\n            prev_row=[]\\n        else:\\n            arg_max_term = dict_to_list[0]\\n            max_term = 1\\n        #arg_max_term = dict_to_list[np.argmax(matrix[i-1][:])]\\n        \\n        for j in range(Ns):\\n            \\n            if(i>0 and j>0):\\n                max_term_before = max_term\\n                p = max_term*emmision_probability(tokens[i], dict_to_list[j], arg_max_term)*transition_probability(arg_max_term, dict_to_list[j])\\n                if(p>0):\\n                    prev_row.append(p)\\n                    prev_num.append(j)\\n        end_time = time.time()\\n        elapsed_time = end_time - start_time\\n        print(f\"Elapsed time: {elapsed_time:.2f} seconds\")\\n        if arg_max_term!=\\'SOS\\' and arg_max_term!=\\'EOS\\':\\n            path.append(arg_max_term)  \\n    path.insert(0, \\'SOS\\')\\n    path.append(\\'EOS\\')\\n    return path, p'"
      ]
     },
     "execution_count": 453,
     "metadata": {},
     "output_type": "execute_result"
    }
   ],
   "source": [
    "'''def viterbi_algorithm(tokens):\n",
    "    N = len(tokens)\n",
    "    Ns = len(final_tags)\n",
    "    \n",
    "    path = []\n",
    "    prev_row = []\n",
    "    prev_num = []\n",
    "    for i in range(0,N):\n",
    "        arg_max_term='SOS'\n",
    "        max_term=1\n",
    "        start_time = time.time()\n",
    "        if(len(prev_row)):\n",
    "            max_y = prev_row[0]\n",
    "            arg_mac = 0\n",
    "            b=0\n",
    "            for term in prev_row:\n",
    "                if(term>max_y):\n",
    "                    max_y = term\n",
    "                    arg_mac = prev_num[b]\n",
    "                b+=1\n",
    "            arg_max_term = dict_to_list[arg_mac]\n",
    "            max_term = max_y\n",
    "            prev_num=[]\n",
    "            prev_row=[]\n",
    "        else:\n",
    "            arg_max_term = dict_to_list[0]\n",
    "            max_term = 1\n",
    "        #arg_max_term = dict_to_list[np.argmax(matrix[i-1][:])]\n",
    "        \n",
    "        for j in range(Ns):\n",
    "            \n",
    "            if(i>0 and j>0):\n",
    "                max_term_before = max_term\n",
    "                p = max_term*emmision_probability(tokens[i], dict_to_list[j], arg_max_term)*transition_probability(arg_max_term, dict_to_list[j])\n",
    "                if(p>0):\n",
    "                    prev_row.append(p)\n",
    "                    prev_num.append(j)\n",
    "        end_time = time.time()\n",
    "        elapsed_time = end_time - start_time\n",
    "        print(f\"Elapsed time: {elapsed_time:.2f} seconds\")\n",
    "        if arg_max_term!='SOS' and arg_max_term!='EOS':\n",
    "            path.append(arg_max_term)  \n",
    "    path.insert(0, 'SOS')\n",
    "    path.append('EOS')\n",
    "    return path, p'''"
   ]
  },
  {
   "cell_type": "code",
   "execution_count": 14,
   "id": "7367b180",
   "metadata": {},
   "outputs": [],
   "source": [
    "def viterbi_algorithm(tokens):\n",
    "    N = len(tokens)\n",
    "    Ns = len(final_tags)\n",
    "    matrix = np.zeros((N, Ns))\n",
    "    matrix[0][0] = 1\n",
    "    path = []\n",
    "    for i in range(N):\n",
    "        arg_max_term = dict_to_list[np.argmax(matrix[i-1][:])]\n",
    "        for j in range(Ns):\n",
    "            if(i>0 and j>0):\n",
    "                max_term_before = max(matrix[i-1][:])\n",
    "                matrix[i][j] = max(matrix[i-1][:])*emmision_probability(tokens[i], dict_to_list[j], dict_to_list[j-1])*transition_probability(dict_to_list[np.argmax(matrix[i-1][:])], dict_to_list[j])\n",
    "        if arg_max_term!='SOS' and arg_max_term!='EOS':\n",
    "            path.append(arg_max_term)  \n",
    "    path.insert(0, 'SOS')\n",
    "    path.append('EOS')\n",
    "    return path, matrix"
   ]
  },
  {
   "cell_type": "code",
   "execution_count": 18,
   "id": "70d15410",
   "metadata": {},
   "outputs": [],
   "source": [
    "from nltk.tokenize import word_tokenize\n",
    "sentence = \"The quick brown fox jumps over the lazy dog. They race through the lush forest, chasing dreams of adventure beneath the starry night sky, filled with wonder and endless possibilities.\"\n",
    "#sentence = \"I am a boy\"\n",
    "#sentence = positive_sentences[0]\n",
    "tokens = word_tokenize(sentence)[:200]\n",
    "tokens.append('')\n",
    "tokens.insert(0, '')\n"
   ]
  },
  {
   "cell_type": "code",
   "execution_count": 19,
   "id": "80dc9514",
   "metadata": {},
   "outputs": [
    {
     "data": {
      "text/plain": [
       "[('', 'SOS'),\n",
       " ('The', 'DIF'),\n",
       " ('quick', 'ADJ'),\n",
       " ('brown', 'NN'),\n",
       " ('fox', 'VB'),\n",
       " ('jumps', 'VB'),\n",
       " ('over', 'PP'),\n",
       " ('the', 'DIF'),\n",
       " ('lazy', 'NN'),\n",
       " ('dog', 'VB'),\n",
       " ('.', 'OTH'),\n",
       " ('They', 'PRP'),\n",
       " ('race', 'VB'),\n",
       " ('through', 'PP'),\n",
       " ('the', 'DIF'),\n",
       " ('lush', 'NN'),\n",
       " ('forest', 'VB'),\n",
       " (',', 'OTH'),\n",
       " ('chasing', 'VB'),\n",
       " ('dreams', 'VB'),\n",
       " ('of', 'PP'),\n",
       " ('adventure', 'NN'),\n",
       " ('beneath', 'VB'),\n",
       " ('the', 'DIF'),\n",
       " ('starry', 'NN'),\n",
       " ('night', 'NN'),\n",
       " ('sky', 'VB'),\n",
       " (',', 'OTH'),\n",
       " ('filled', 'VB'),\n",
       " ('with', 'PP'),\n",
       " ('wonder', 'NN'),\n",
       " ('and', 'CC'),\n",
       " ('endless', 'ADJ'),\n",
       " ('possibilities', 'NN'),\n",
       " ('.', 'OTH'),\n",
       " ('', 'EOS')]"
      ]
     },
     "execution_count": 19,
     "metadata": {},
     "output_type": "execute_result"
    }
   ],
   "source": [
    "path1, matrix = viterbi_algorithm(tokens)\n",
    "[(tokens[i], path1[i]) for i in range(len(tokens))]"
   ]
  },
  {
   "cell_type": "code",
   "execution_count": 410,
   "id": "16d756ba",
   "metadata": {},
   "outputs": [
    {
     "data": {
      "text/plain": [
       "['SOS',\n",
       " 'DIF',\n",
       " 'VB',\n",
       " 'VB',\n",
       " 'PP',\n",
       " 'DIF',\n",
       " 'OTH',\n",
       " 'VB',\n",
       " 'DIF',\n",
       " 'CC',\n",
       " 'ADJ',\n",
       " 'PP',\n",
       " 'DIF',\n",
       " 'OTH',\n",
       " 'EOS']"
      ]
     },
     "execution_count": 410,
     "metadata": {},
     "output_type": "execute_result"
    }
   ],
   "source": [
    "path1"
   ]
  },
  {
   "cell_type": "code",
   "execution_count": null,
   "id": "70f265fb",
   "metadata": {},
   "outputs": [],
   "source": []
  },
  {
   "cell_type": "code",
   "execution_count": null,
   "id": "b4ffb4d3",
   "metadata": {},
   "outputs": [],
   "source": []
  },
  {
   "cell_type": "code",
   "execution_count": null,
   "id": "77e2062d",
   "metadata": {},
   "outputs": [],
   "source": []
  },
  {
   "cell_type": "code",
   "execution_count": null,
   "id": "cce596da",
   "metadata": {},
   "outputs": [],
   "source": []
  },
  {
   "cell_type": "code",
   "execution_count": null,
   "id": "c75c44f0",
   "metadata": {},
   "outputs": [],
   "source": []
  },
  {
   "cell_type": "code",
   "execution_count": null,
   "id": "0fa463a3",
   "metadata": {},
   "outputs": [],
   "source": []
  },
  {
   "cell_type": "markdown",
   "id": "0415836a",
   "metadata": {},
   "source": [
    "# Vanilla Sentiment Classifier"
   ]
  },
  {
   "cell_type": "code",
   "execution_count": 114,
   "id": "b4b03853",
   "metadata": {},
   "outputs": [
    {
     "name": "stderr",
     "output_type": "stream",
     "text": [
      "[nltk_data] Downloading package movie_reviews to\n",
      "[nltk_data]     C:\\Users\\rouna\\AppData\\Roaming\\nltk_data...\n",
      "[nltk_data]   Package movie_reviews is already up-to-date!\n"
     ]
    }
   ],
   "source": [
    "import nltk\n",
    "from nltk.corpus import movie_reviews\n",
    "from sklearn.feature_extraction.text import TfidfVectorizer\n",
    "from sklearn.naive_bayes import MultinomialNB\n",
    "from sklearn.metrics import accuracy_score\n",
    "from sklearn.model_selection import train_test_split\n",
    "from sklearn.naive_bayes import GaussianNB\n",
    "nltk.download('movie_reviews')\n",
    "from nltk.tokenize import sent_tokenize, word_tokenize\n",
    "from nltk import pos_tag"
   ]
  },
  {
   "cell_type": "code",
   "execution_count": 115,
   "id": "36ed5986",
   "metadata": {},
   "outputs": [],
   "source": [
    "positive_fileids = movie_reviews.fileids('pos')\n",
    "negative_fileids = movie_reviews.fileids('neg')\n",
    "\n",
    "def get_sentences(file_ids):\n",
    "    sentences = []\n",
    "    for file_id in file_ids:\n",
    "        \n",
    "        review_text = list(movie_reviews.words(file_id))\n",
    "        text = \" \".join(review_text)\n",
    "        sentences.append(text)\n",
    "    return sentences\n",
    "\n",
    "positive_sentences = get_sentences(positive_fileids)   # sentences with positive reviews\n",
    "negative_sentences = get_sentences(negative_fileids)   # sentences with negative reviews"
   ]
  },
  {
   "cell_type": "code",
   "execution_count": 48,
   "id": "03c717ca",
   "metadata": {},
   "outputs": [],
   "source": [
    "import random\n",
    "\n",
    "# Initialize an empty list to store the corpus\n",
    "corpus = []\n",
    "\n",
    "# Assuming you have two lists: positive_sentences and negative_sentences\n",
    "# Add positive sentences to the corpus with a label of 1 (indicating positive sentiment)\n",
    "for sentence in positive_sentences:\n",
    "    corpus.append(tuple([sentence, 1]))\n",
    "\n",
    "# Add negative sentences to the corpus with a label of 0 (indicating negative sentiment)\n",
    "for sentence in negative_sentences:\n",
    "    corpus.append(tuple([sentence, 0]))\n",
    "\n",
    "# Shuffle the corpus to randomize the order of sentences\n",
    "random.shuffle(corpus)\n",
    "\n",
    "# The 'corpus' now contains sentence-label pairs in the form (sentence, review)\n"
   ]
  },
  {
   "cell_type": "code",
   "execution_count": 49,
   "id": "ad31e210",
   "metadata": {},
   "outputs": [
    {
     "name": "stderr",
     "output_type": "stream",
     "text": [
      "[nltk_data] Downloading package stopwords to\n",
      "[nltk_data]     C:\\Users\\rouna\\AppData\\Roaming\\nltk_data...\n",
      "[nltk_data]   Package stopwords is already up-to-date!\n",
      "[nltk_data] Downloading package punkt to\n",
      "[nltk_data]     C:\\Users\\rouna\\AppData\\Roaming\\nltk_data...\n",
      "[nltk_data]   Package punkt is already up-to-date!\n",
      "[nltk_data] Downloading package wordnet to\n",
      "[nltk_data]     C:\\Users\\rouna\\AppData\\Roaming\\nltk_data...\n",
      "[nltk_data]   Package wordnet is already up-to-date!\n"
     ]
    }
   ],
   "source": [
    "# Import necessary libraries and download required resources\n",
    "import nltk\n",
    "nltk.download('stopwords')\n",
    "nltk.download('punkt')\n",
    "nltk.download('wordnet')\n",
    "from nltk.corpus import stopwords\n",
    "from stop_words import get_stop_words\n",
    "\n",
    "from nltk.stem import PorterStemmer\n",
    "from nltk.tokenize import word_tokenize\n",
    "\n",
    "# Sample sentence\n",
    "corpus_new = []\n",
    "\n",
    "# Preprocessing step 1: Remove stopwords\n",
    "for sentence, val in corpus:\n",
    "    # Tokenize the sentence\n",
    "    words = word_tokenize(sentence)\n",
    "\n",
    "    # Get the list of English stopwords\n",
    "    stop_words = list(get_stop_words('en'))         # About 900 stopwords\n",
    "    nltk_words = list(stopwords.words('english'))   # About 150 stopwords\n",
    "    stop_words.extend(nltk_words)\n",
    "\n",
    "    # Filter out stopwords from the sentence\n",
    "    filtered_words = [word for word in words if word.lower() not in stop_words]\n",
    "    filtered_sentence = ' '.join(filtered_words)\n",
    "    corpus_new.append(tuple([filtered_sentence, val]))\n",
    "\n",
    "# Initialize a new corpus for stemmed words\n",
    "new_corpus = []\n",
    "\n",
    "# Preprocessing step 2: Stemming\n",
    "for sentence, val in corpus_new:\n",
    "    # Tokenize the sentence\n",
    "    words = word_tokenize(sentence)\n",
    "    \n",
    "    # Create a Porter stemmer instance\n",
    "    stemmer = PorterStemmer()\n",
    "    \n",
    "    # Apply stemming to each word in the sentence\n",
    "    stemmed_words = [stemmer.stem(word) for word in words]\n",
    "    \n",
    "    # Join the stemmed words back into a sentence\n",
    "    stemmed_sentence = ' '.join(stemmed_words)\n",
    "    \n",
    "    # Append the stemmed sentence and its label to the new corpus\n",
    "    new_corpus.append(tuple([stemmed_sentence, val]))\n"
   ]
  },
  {
   "cell_type": "code",
   "execution_count": null,
   "id": "c6886f08",
   "metadata": {},
   "outputs": [],
   "source": []
  },
  {
   "cell_type": "code",
   "execution_count": 50,
   "id": "7490c69a",
   "metadata": {},
   "outputs": [],
   "source": [
    "list_sentences = [sentence for sentence,_ in new_corpus]"
   ]
  },
  {
   "cell_type": "code",
   "execution_count": 51,
   "id": "ed14018c",
   "metadata": {},
   "outputs": [],
   "source": [
    "# Import the necessary library\n",
    "from sklearn.feature_extraction.text import TfidfVectorizer\n",
    "\n",
    "# Assuming 'list_sentences' contains your list of sentences and 'new_corpus' contains your labeled data\n",
    "\n",
    "# Create a copy of the 'list_sentences' (assuming it's a list of sentences)\n",
    "sentences = list_sentences.copy()\n",
    "\n",
    "# Initialize a TfidfVectorizer with a maximum of 2000 features (words or terms)\n",
    "tfidf_vectorizer = TfidfVectorizer(max_features=5000)\n",
    "\n",
    "# Fit and transform the sentences using the TfidfVectorizer\n",
    "X = tfidf_vectorizer.fit_transform(sentences)\n",
    "\n",
    "# Assuming 'new_corpus' is a list of tuples where the second element in each tuple is the label (1 or 0)\n",
    "# Extract the labels (y) from 'new_corpus'\n",
    "y = [val for _, val in new_corpus]\n",
    "\n",
    "# The 'X' variable now contains the TF-IDF vectorized representation of your sentences,\n",
    "# and 'y' contains the corresponding labels.\n"
   ]
  },
  {
   "cell_type": "code",
   "execution_count": 52,
   "id": "1988b5e9",
   "metadata": {},
   "outputs": [],
   "source": [
    "# train-test splitting\n",
    "X_train = X[:1800]\n",
    "y_train = y[:1800]\n",
    "X_test = X[1800:]\n",
    "y_test = y[1800:]"
   ]
  },
  {
   "cell_type": "code",
   "execution_count": 54,
   "id": "0a71a7d2",
   "metadata": {
    "scrolled": false
   },
   "outputs": [
    {
     "name": "stdout",
     "output_type": "stream",
     "text": [
      "Learning rate set to 0.013241\n",
      "0:\tlearn: 0.6907227\ttotal: 268ms\tremaining: 4m 28s\n",
      "1:\tlearn: 0.6887364\ttotal: 509ms\tremaining: 4m 14s\n",
      "2:\tlearn: 0.6864846\ttotal: 766ms\tremaining: 4m 14s\n",
      "3:\tlearn: 0.6845819\ttotal: 1.02s\tremaining: 4m 13s\n",
      "4:\tlearn: 0.6817174\ttotal: 1.26s\tremaining: 4m 10s\n",
      "5:\tlearn: 0.6793544\ttotal: 1.51s\tremaining: 4m 10s\n",
      "6:\tlearn: 0.6774416\ttotal: 1.79s\tremaining: 4m 14s\n",
      "7:\tlearn: 0.6748642\ttotal: 2.04s\tremaining: 4m 13s\n",
      "8:\tlearn: 0.6730348\ttotal: 2.29s\tremaining: 4m 11s\n",
      "9:\tlearn: 0.6709713\ttotal: 2.53s\tremaining: 4m 10s\n",
      "10:\tlearn: 0.6687515\ttotal: 2.77s\tremaining: 4m 9s\n",
      "11:\tlearn: 0.6666151\ttotal: 3.02s\tremaining: 4m 8s\n",
      "12:\tlearn: 0.6644471\ttotal: 3.26s\tremaining: 4m 7s\n",
      "13:\tlearn: 0.6626934\ttotal: 3.51s\tremaining: 4m 7s\n",
      "14:\tlearn: 0.6611005\ttotal: 3.75s\tremaining: 4m 6s\n",
      "15:\tlearn: 0.6589488\ttotal: 4s\tremaining: 4m 6s\n",
      "16:\tlearn: 0.6574820\ttotal: 4.25s\tremaining: 4m 5s\n",
      "17:\tlearn: 0.6549623\ttotal: 4.52s\tremaining: 4m 6s\n",
      "18:\tlearn: 0.6532207\ttotal: 4.76s\tremaining: 4m 5s\n",
      "19:\tlearn: 0.6515329\ttotal: 5.01s\tremaining: 4m 5s\n",
      "20:\tlearn: 0.6501290\ttotal: 5.25s\tremaining: 4m 4s\n",
      "21:\tlearn: 0.6481226\ttotal: 5.5s\tremaining: 4m 4s\n",
      "22:\tlearn: 0.6459615\ttotal: 5.74s\tremaining: 4m 3s\n",
      "23:\tlearn: 0.6444004\ttotal: 5.99s\tremaining: 4m 3s\n",
      "24:\tlearn: 0.6420882\ttotal: 6.23s\tremaining: 4m 2s\n",
      "25:\tlearn: 0.6408003\ttotal: 6.48s\tremaining: 4m 2s\n",
      "26:\tlearn: 0.6394389\ttotal: 6.73s\tremaining: 4m 2s\n",
      "27:\tlearn: 0.6376069\ttotal: 6.98s\tremaining: 4m 2s\n",
      "28:\tlearn: 0.6356745\ttotal: 7.24s\tremaining: 4m 2s\n",
      "29:\tlearn: 0.6345424\ttotal: 7.49s\tremaining: 4m 2s\n",
      "30:\tlearn: 0.6328621\ttotal: 7.76s\tremaining: 4m 2s\n",
      "31:\tlearn: 0.6315211\ttotal: 8s\tremaining: 4m 2s\n",
      "32:\tlearn: 0.6300956\ttotal: 8.26s\tremaining: 4m 1s\n",
      "33:\tlearn: 0.6286530\ttotal: 8.5s\tremaining: 4m 1s\n",
      "34:\tlearn: 0.6267297\ttotal: 8.74s\tremaining: 4m 1s\n",
      "35:\tlearn: 0.6255669\ttotal: 8.99s\tremaining: 4m\n",
      "36:\tlearn: 0.6240852\ttotal: 9.23s\tremaining: 4m\n",
      "37:\tlearn: 0.6223775\ttotal: 9.49s\tremaining: 4m\n",
      "38:\tlearn: 0.6213524\ttotal: 9.75s\tremaining: 4m\n",
      "39:\tlearn: 0.6201969\ttotal: 10s\tremaining: 4m\n",
      "40:\tlearn: 0.6190534\ttotal: 10.3s\tremaining: 4m\n",
      "41:\tlearn: 0.6176343\ttotal: 10.5s\tremaining: 3m 59s\n",
      "42:\tlearn: 0.6159768\ttotal: 10.8s\tremaining: 3m 59s\n",
      "43:\tlearn: 0.6143731\ttotal: 11s\tremaining: 4m\n",
      "44:\tlearn: 0.6130349\ttotal: 11.3s\tremaining: 3m 59s\n",
      "45:\tlearn: 0.6116013\ttotal: 11.5s\tremaining: 3m 59s\n",
      "46:\tlearn: 0.6106574\ttotal: 11.8s\tremaining: 3m 58s\n",
      "47:\tlearn: 0.6090483\ttotal: 12s\tremaining: 3m 58s\n",
      "48:\tlearn: 0.6078946\ttotal: 12.3s\tremaining: 3m 58s\n",
      "49:\tlearn: 0.6064258\ttotal: 12.5s\tremaining: 3m 57s\n",
      "50:\tlearn: 0.6052608\ttotal: 12.7s\tremaining: 3m 57s\n",
      "51:\tlearn: 0.6039384\ttotal: 13s\tremaining: 3m 56s\n",
      "52:\tlearn: 0.6024896\ttotal: 13.2s\tremaining: 3m 56s\n",
      "53:\tlearn: 0.6014632\ttotal: 13.5s\tremaining: 3m 56s\n",
      "54:\tlearn: 0.6003815\ttotal: 13.7s\tremaining: 3m 55s\n",
      "55:\tlearn: 0.5988123\ttotal: 14s\tremaining: 3m 56s\n",
      "56:\tlearn: 0.5979011\ttotal: 14.2s\tremaining: 3m 55s\n",
      "57:\tlearn: 0.5965337\ttotal: 14.5s\tremaining: 3m 55s\n",
      "58:\tlearn: 0.5952786\ttotal: 14.7s\tremaining: 3m 55s\n",
      "59:\tlearn: 0.5938969\ttotal: 15s\tremaining: 3m 54s\n",
      "60:\tlearn: 0.5926063\ttotal: 15.3s\tremaining: 3m 54s\n",
      "61:\tlearn: 0.5915458\ttotal: 15.5s\tremaining: 3m 54s\n",
      "62:\tlearn: 0.5905017\ttotal: 15.8s\tremaining: 3m 54s\n",
      "63:\tlearn: 0.5895161\ttotal: 16s\tremaining: 3m 53s\n",
      "64:\tlearn: 0.5882183\ttotal: 16.2s\tremaining: 3m 53s\n",
      "65:\tlearn: 0.5872614\ttotal: 16.5s\tremaining: 3m 53s\n",
      "66:\tlearn: 0.5859443\ttotal: 16.7s\tremaining: 3m 52s\n",
      "67:\tlearn: 0.5847470\ttotal: 17s\tremaining: 3m 52s\n",
      "68:\tlearn: 0.5834124\ttotal: 17.2s\tremaining: 3m 52s\n",
      "69:\tlearn: 0.5821288\ttotal: 17.5s\tremaining: 3m 51s\n",
      "70:\tlearn: 0.5810596\ttotal: 17.7s\tremaining: 3m 51s\n",
      "71:\tlearn: 0.5799708\ttotal: 18s\tremaining: 3m 51s\n",
      "72:\tlearn: 0.5788325\ttotal: 18.2s\tremaining: 3m 51s\n",
      "73:\tlearn: 0.5776043\ttotal: 18.4s\tremaining: 3m 50s\n",
      "74:\tlearn: 0.5760973\ttotal: 18.7s\tremaining: 3m 50s\n",
      "75:\tlearn: 0.5750760\ttotal: 18.9s\tremaining: 3m 50s\n",
      "76:\tlearn: 0.5737841\ttotal: 19.2s\tremaining: 3m 49s\n",
      "77:\tlearn: 0.5727057\ttotal: 19.4s\tremaining: 3m 49s\n",
      "78:\tlearn: 0.5714269\ttotal: 19.7s\tremaining: 3m 49s\n",
      "79:\tlearn: 0.5704398\ttotal: 19.9s\tremaining: 3m 48s\n",
      "80:\tlearn: 0.5696271\ttotal: 20.1s\tremaining: 3m 48s\n",
      "81:\tlearn: 0.5687425\ttotal: 20.4s\tremaining: 3m 48s\n",
      "82:\tlearn: 0.5676834\ttotal: 20.6s\tremaining: 3m 48s\n",
      "83:\tlearn: 0.5664308\ttotal: 20.9s\tremaining: 3m 47s\n",
      "84:\tlearn: 0.5657837\ttotal: 21.1s\tremaining: 3m 47s\n",
      "85:\tlearn: 0.5650009\ttotal: 21.4s\tremaining: 3m 47s\n",
      "86:\tlearn: 0.5640067\ttotal: 21.6s\tremaining: 3m 46s\n",
      "87:\tlearn: 0.5632882\ttotal: 21.9s\tremaining: 3m 46s\n",
      "88:\tlearn: 0.5622959\ttotal: 22.1s\tremaining: 3m 46s\n",
      "89:\tlearn: 0.5614614\ttotal: 22.4s\tremaining: 3m 46s\n",
      "90:\tlearn: 0.5607469\ttotal: 22.6s\tremaining: 3m 46s\n",
      "91:\tlearn: 0.5601395\ttotal: 22.9s\tremaining: 3m 45s\n",
      "92:\tlearn: 0.5588458\ttotal: 23.1s\tremaining: 3m 45s\n",
      "93:\tlearn: 0.5581597\ttotal: 23.4s\tremaining: 3m 45s\n",
      "94:\tlearn: 0.5569454\ttotal: 23.6s\tremaining: 3m 44s\n",
      "95:\tlearn: 0.5557767\ttotal: 23.9s\tremaining: 3m 44s\n",
      "96:\tlearn: 0.5549832\ttotal: 24.1s\tremaining: 3m 44s\n",
      "97:\tlearn: 0.5542339\ttotal: 24.4s\tremaining: 3m 44s\n",
      "98:\tlearn: 0.5530598\ttotal: 24.6s\tremaining: 3m 43s\n",
      "99:\tlearn: 0.5520289\ttotal: 24.8s\tremaining: 3m 43s\n",
      "100:\tlearn: 0.5514393\ttotal: 25.1s\tremaining: 3m 43s\n",
      "101:\tlearn: 0.5506819\ttotal: 25.4s\tremaining: 3m 43s\n",
      "102:\tlearn: 0.5498921\ttotal: 25.6s\tremaining: 3m 43s\n",
      "103:\tlearn: 0.5488479\ttotal: 25.9s\tremaining: 3m 42s\n",
      "104:\tlearn: 0.5479610\ttotal: 26.1s\tremaining: 3m 42s\n",
      "105:\tlearn: 0.5471090\ttotal: 26.4s\tremaining: 3m 42s\n",
      "106:\tlearn: 0.5461455\ttotal: 26.6s\tremaining: 3m 41s\n",
      "107:\tlearn: 0.5453440\ttotal: 26.8s\tremaining: 3m 41s\n",
      "108:\tlearn: 0.5444825\ttotal: 27.1s\tremaining: 3m 41s\n",
      "109:\tlearn: 0.5439022\ttotal: 27.4s\tremaining: 3m 41s\n",
      "110:\tlearn: 0.5429754\ttotal: 27.6s\tremaining: 3m 41s\n",
      "111:\tlearn: 0.5422487\ttotal: 27.9s\tremaining: 3m 40s\n",
      "112:\tlearn: 0.5415147\ttotal: 28.1s\tremaining: 3m 40s\n",
      "113:\tlearn: 0.5407066\ttotal: 28.4s\tremaining: 3m 40s\n",
      "114:\tlearn: 0.5398347\ttotal: 28.6s\tremaining: 3m 40s\n",
      "115:\tlearn: 0.5389840\ttotal: 28.8s\tremaining: 3m 39s\n",
      "116:\tlearn: 0.5382246\ttotal: 29.1s\tremaining: 3m 39s\n",
      "117:\tlearn: 0.5374233\ttotal: 29.4s\tremaining: 3m 39s\n",
      "118:\tlearn: 0.5370118\ttotal: 29.6s\tremaining: 3m 39s\n",
      "119:\tlearn: 0.5363226\ttotal: 29.9s\tremaining: 3m 38s\n",
      "120:\tlearn: 0.5357710\ttotal: 30.1s\tremaining: 3m 38s\n",
      "121:\tlearn: 0.5350779\ttotal: 30.4s\tremaining: 3m 38s\n",
      "122:\tlearn: 0.5343660\ttotal: 30.6s\tremaining: 3m 38s\n",
      "123:\tlearn: 0.5333570\ttotal: 30.9s\tremaining: 3m 38s\n",
      "124:\tlearn: 0.5326092\ttotal: 31.1s\tremaining: 3m 37s\n",
      "125:\tlearn: 0.5318065\ttotal: 31.3s\tremaining: 3m 37s\n",
      "126:\tlearn: 0.5312767\ttotal: 31.6s\tremaining: 3m 37s\n",
      "127:\tlearn: 0.5304099\ttotal: 31.9s\tremaining: 3m 37s\n",
      "128:\tlearn: 0.5296669\ttotal: 32.2s\tremaining: 3m 37s\n",
      "129:\tlearn: 0.5289397\ttotal: 32.4s\tremaining: 3m 37s\n",
      "130:\tlearn: 0.5281996\ttotal: 32.7s\tremaining: 3m 36s\n",
      "131:\tlearn: 0.5273623\ttotal: 32.9s\tremaining: 3m 36s\n",
      "132:\tlearn: 0.5266222\ttotal: 33.2s\tremaining: 3m 36s\n",
      "133:\tlearn: 0.5259238\ttotal: 33.4s\tremaining: 3m 36s\n",
      "134:\tlearn: 0.5252711\ttotal: 33.7s\tremaining: 3m 35s\n",
      "135:\tlearn: 0.5246206\ttotal: 33.9s\tremaining: 3m 35s\n",
      "136:\tlearn: 0.5239269\ttotal: 34.2s\tremaining: 3m 35s\n",
      "137:\tlearn: 0.5231065\ttotal: 34.4s\tremaining: 3m 35s\n",
      "138:\tlearn: 0.5222179\ttotal: 34.7s\tremaining: 3m 34s\n",
      "139:\tlearn: 0.5214302\ttotal: 34.9s\tremaining: 3m 34s\n",
      "140:\tlearn: 0.5207050\ttotal: 35.2s\tremaining: 3m 34s\n",
      "141:\tlearn: 0.5199703\ttotal: 35.4s\tremaining: 3m 34s\n",
      "142:\tlearn: 0.5192433\ttotal: 35.7s\tremaining: 3m 33s\n",
      "143:\tlearn: 0.5183172\ttotal: 36s\tremaining: 3m 33s\n",
      "144:\tlearn: 0.5173415\ttotal: 36.2s\tremaining: 3m 33s\n",
      "145:\tlearn: 0.5165093\ttotal: 36.5s\tremaining: 3m 33s\n",
      "146:\tlearn: 0.5158680\ttotal: 36.7s\tremaining: 3m 33s\n",
      "147:\tlearn: 0.5151190\ttotal: 37s\tremaining: 3m 32s\n",
      "148:\tlearn: 0.5143555\ttotal: 37.3s\tremaining: 3m 32s\n",
      "149:\tlearn: 0.5136665\ttotal: 37.5s\tremaining: 3m 32s\n",
      "150:\tlearn: 0.5130834\ttotal: 37.8s\tremaining: 3m 32s\n",
      "151:\tlearn: 0.5124295\ttotal: 38.1s\tremaining: 3m 32s\n",
      "152:\tlearn: 0.5117177\ttotal: 38.3s\tremaining: 3m 32s\n",
      "153:\tlearn: 0.5111060\ttotal: 38.6s\tremaining: 3m 31s\n",
      "154:\tlearn: 0.5101340\ttotal: 38.8s\tremaining: 3m 31s\n",
      "155:\tlearn: 0.5093020\ttotal: 39.1s\tremaining: 3m 31s\n",
      "156:\tlearn: 0.5086597\ttotal: 39.3s\tremaining: 3m 31s\n",
      "157:\tlearn: 0.5080296\ttotal: 39.6s\tremaining: 3m 30s\n",
      "158:\tlearn: 0.5074376\ttotal: 39.8s\tremaining: 3m 30s\n",
      "159:\tlearn: 0.5066178\ttotal: 40.1s\tremaining: 3m 30s\n",
      "160:\tlearn: 0.5059136\ttotal: 40.3s\tremaining: 3m 29s\n",
      "161:\tlearn: 0.5052747\ttotal: 40.5s\tremaining: 3m 29s\n",
      "162:\tlearn: 0.5045581\ttotal: 40.8s\tremaining: 3m 29s\n",
      "163:\tlearn: 0.5038725\ttotal: 41s\tremaining: 3m 29s\n",
      "164:\tlearn: 0.5031108\ttotal: 41.3s\tremaining: 3m 28s\n",
      "165:\tlearn: 0.5023889\ttotal: 41.5s\tremaining: 3m 28s\n",
      "166:\tlearn: 0.5016574\ttotal: 41.8s\tremaining: 3m 28s\n",
      "167:\tlearn: 0.5007843\ttotal: 42.1s\tremaining: 3m 28s\n",
      "168:\tlearn: 0.5002551\ttotal: 42.3s\tremaining: 3m 28s\n",
      "169:\tlearn: 0.4996390\ttotal: 42.6s\tremaining: 3m 27s\n",
      "170:\tlearn: 0.4989844\ttotal: 42.9s\tremaining: 3m 27s\n",
      "171:\tlearn: 0.4984661\ttotal: 43.1s\tremaining: 3m 27s\n",
      "172:\tlearn: 0.4977961\ttotal: 43.4s\tremaining: 3m 27s\n",
      "173:\tlearn: 0.4968908\ttotal: 43.7s\tremaining: 3m 27s\n",
      "174:\tlearn: 0.4961504\ttotal: 43.9s\tremaining: 3m 27s\n",
      "175:\tlearn: 0.4951489\ttotal: 44.2s\tremaining: 3m 26s\n",
      "176:\tlearn: 0.4944704\ttotal: 44.4s\tremaining: 3m 26s\n",
      "177:\tlearn: 0.4940457\ttotal: 44.7s\tremaining: 3m 26s\n",
      "178:\tlearn: 0.4933555\ttotal: 44.9s\tremaining: 3m 26s\n",
      "179:\tlearn: 0.4927100\ttotal: 45.2s\tremaining: 3m 25s\n",
      "180:\tlearn: 0.4921523\ttotal: 45.4s\tremaining: 3m 25s\n",
      "181:\tlearn: 0.4915152\ttotal: 45.7s\tremaining: 3m 25s\n",
      "182:\tlearn: 0.4907426\ttotal: 45.9s\tremaining: 3m 25s\n",
      "183:\tlearn: 0.4900157\ttotal: 46.2s\tremaining: 3m 24s\n",
      "184:\tlearn: 0.4894733\ttotal: 46.4s\tremaining: 3m 24s\n",
      "185:\tlearn: 0.4888824\ttotal: 46.7s\tremaining: 3m 24s\n",
      "186:\tlearn: 0.4881521\ttotal: 46.9s\tremaining: 3m 24s\n",
      "187:\tlearn: 0.4873672\ttotal: 47.2s\tremaining: 3m 23s\n",
      "188:\tlearn: 0.4867859\ttotal: 47.4s\tremaining: 3m 23s\n",
      "189:\tlearn: 0.4862778\ttotal: 47.7s\tremaining: 3m 23s\n",
      "190:\tlearn: 0.4855979\ttotal: 47.9s\tremaining: 3m 23s\n",
      "191:\tlearn: 0.4850294\ttotal: 48.2s\tremaining: 3m 22s\n",
      "192:\tlearn: 0.4843182\ttotal: 48.4s\tremaining: 3m 22s\n",
      "193:\tlearn: 0.4834781\ttotal: 48.7s\tremaining: 3m 22s\n",
      "194:\tlearn: 0.4827231\ttotal: 48.9s\tremaining: 3m 22s\n",
      "195:\tlearn: 0.4821065\ttotal: 49.2s\tremaining: 3m 21s\n",
      "196:\tlearn: 0.4816378\ttotal: 49.4s\tremaining: 3m 21s\n",
      "197:\tlearn: 0.4810124\ttotal: 49.7s\tremaining: 3m 21s\n",
      "198:\tlearn: 0.4803857\ttotal: 49.9s\tremaining: 3m 21s\n",
      "199:\tlearn: 0.4798300\ttotal: 50.2s\tremaining: 3m 20s\n",
      "200:\tlearn: 0.4791988\ttotal: 50.4s\tremaining: 3m 20s\n",
      "201:\tlearn: 0.4787222\ttotal: 50.7s\tremaining: 3m 20s\n",
      "202:\tlearn: 0.4782059\ttotal: 50.9s\tremaining: 3m 20s\n",
      "203:\tlearn: 0.4774266\ttotal: 51.2s\tremaining: 3m 19s\n",
      "204:\tlearn: 0.4769780\ttotal: 51.4s\tremaining: 3m 19s\n",
      "205:\tlearn: 0.4765897\ttotal: 51.7s\tremaining: 3m 19s\n",
      "206:\tlearn: 0.4761379\ttotal: 51.9s\tremaining: 3m 18s\n",
      "207:\tlearn: 0.4757263\ttotal: 52.2s\tremaining: 3m 18s\n",
      "208:\tlearn: 0.4751214\ttotal: 52.4s\tremaining: 3m 18s\n",
      "209:\tlearn: 0.4746138\ttotal: 52.6s\tremaining: 3m 18s\n",
      "210:\tlearn: 0.4739264\ttotal: 52.9s\tremaining: 3m 17s\n",
      "211:\tlearn: 0.4733527\ttotal: 53.1s\tremaining: 3m 17s\n",
      "212:\tlearn: 0.4729065\ttotal: 53.4s\tremaining: 3m 17s\n",
      "213:\tlearn: 0.4722137\ttotal: 53.6s\tremaining: 3m 16s\n",
      "214:\tlearn: 0.4715124\ttotal: 53.9s\tremaining: 3m 16s\n",
      "215:\tlearn: 0.4708247\ttotal: 54.1s\tremaining: 3m 16s\n",
      "216:\tlearn: 0.4703514\ttotal: 54.4s\tremaining: 3m 16s\n",
      "217:\tlearn: 0.4697189\ttotal: 54.6s\tremaining: 3m 15s\n",
      "218:\tlearn: 0.4690809\ttotal: 54.8s\tremaining: 3m 15s\n",
      "219:\tlearn: 0.4685952\ttotal: 55.1s\tremaining: 3m 15s\n",
      "220:\tlearn: 0.4682542\ttotal: 55.3s\tremaining: 3m 15s\n",
      "221:\tlearn: 0.4677677\ttotal: 55.6s\tremaining: 3m 14s\n",
      "222:\tlearn: 0.4672248\ttotal: 55.8s\tremaining: 3m 14s\n",
      "223:\tlearn: 0.4666385\ttotal: 56.1s\tremaining: 3m 14s\n",
      "224:\tlearn: 0.4659055\ttotal: 56.3s\tremaining: 3m 13s\n",
      "225:\tlearn: 0.4651000\ttotal: 56.6s\tremaining: 3m 13s\n",
      "226:\tlearn: 0.4645956\ttotal: 56.8s\tremaining: 3m 13s\n",
      "227:\tlearn: 0.4639023\ttotal: 57s\tremaining: 3m 13s\n",
      "228:\tlearn: 0.4634452\ttotal: 57.3s\tremaining: 3m 12s\n",
      "229:\tlearn: 0.4627842\ttotal: 57.5s\tremaining: 3m 12s\n",
      "230:\tlearn: 0.4623452\ttotal: 57.8s\tremaining: 3m 12s\n",
      "231:\tlearn: 0.4618442\ttotal: 58s\tremaining: 3m 12s\n",
      "232:\tlearn: 0.4612950\ttotal: 58.3s\tremaining: 3m 11s\n",
      "233:\tlearn: 0.4606065\ttotal: 58.5s\tremaining: 3m 11s\n",
      "234:\tlearn: 0.4600973\ttotal: 58.8s\tremaining: 3m 11s\n",
      "235:\tlearn: 0.4593866\ttotal: 59s\tremaining: 3m 11s\n",
      "236:\tlearn: 0.4588329\ttotal: 59.3s\tremaining: 3m 10s\n",
      "237:\tlearn: 0.4582539\ttotal: 59.5s\tremaining: 3m 10s\n",
      "238:\tlearn: 0.4577094\ttotal: 59.7s\tremaining: 3m 10s\n",
      "239:\tlearn: 0.4572436\ttotal: 60s\tremaining: 3m 9s\n",
      "240:\tlearn: 0.4567873\ttotal: 1m\tremaining: 3m 9s\n",
      "241:\tlearn: 0.4559263\ttotal: 1m\tremaining: 3m 9s\n",
      "242:\tlearn: 0.4554574\ttotal: 1m\tremaining: 3m 9s\n",
      "243:\tlearn: 0.4548793\ttotal: 1m\tremaining: 3m 8s\n",
      "244:\tlearn: 0.4542542\ttotal: 1m 1s\tremaining: 3m 8s\n",
      "245:\tlearn: 0.4537168\ttotal: 1m 1s\tremaining: 3m 8s\n",
      "246:\tlearn: 0.4532160\ttotal: 1m 1s\tremaining: 3m 8s\n",
      "247:\tlearn: 0.4525745\ttotal: 1m 1s\tremaining: 3m 7s\n",
      "248:\tlearn: 0.4521319\ttotal: 1m 2s\tremaining: 3m 7s\n",
      "249:\tlearn: 0.4516218\ttotal: 1m 2s\tremaining: 3m 7s\n",
      "250:\tlearn: 0.4511664\ttotal: 1m 2s\tremaining: 3m 7s\n",
      "251:\tlearn: 0.4505822\ttotal: 1m 2s\tremaining: 3m 6s\n",
      "252:\tlearn: 0.4502393\ttotal: 1m 3s\tremaining: 3m 6s\n",
      "253:\tlearn: 0.4497837\ttotal: 1m 3s\tremaining: 3m 6s\n",
      "254:\tlearn: 0.4493639\ttotal: 1m 3s\tremaining: 3m 5s\n",
      "255:\tlearn: 0.4489915\ttotal: 1m 3s\tremaining: 3m 5s\n",
      "256:\tlearn: 0.4484793\ttotal: 1m 4s\tremaining: 3m 5s\n",
      "257:\tlearn: 0.4480720\ttotal: 1m 4s\tremaining: 3m 5s\n",
      "258:\tlearn: 0.4475824\ttotal: 1m 4s\tremaining: 3m 4s\n",
      "259:\tlearn: 0.4473079\ttotal: 1m 4s\tremaining: 3m 4s\n",
      "260:\tlearn: 0.4469353\ttotal: 1m 5s\tremaining: 3m 4s\n",
      "261:\tlearn: 0.4464979\ttotal: 1m 5s\tremaining: 3m 4s\n",
      "262:\tlearn: 0.4460500\ttotal: 1m 5s\tremaining: 3m 3s\n",
      "263:\tlearn: 0.4457516\ttotal: 1m 5s\tremaining: 3m 3s\n",
      "264:\tlearn: 0.4450146\ttotal: 1m 6s\tremaining: 3m 3s\n",
      "265:\tlearn: 0.4445091\ttotal: 1m 6s\tremaining: 3m 3s\n",
      "266:\tlearn: 0.4439308\ttotal: 1m 6s\tremaining: 3m 3s\n",
      "267:\tlearn: 0.4434195\ttotal: 1m 6s\tremaining: 3m 2s\n",
      "268:\tlearn: 0.4430125\ttotal: 1m 7s\tremaining: 3m 2s\n",
      "269:\tlearn: 0.4426195\ttotal: 1m 7s\tremaining: 3m 2s\n",
      "270:\tlearn: 0.4422723\ttotal: 1m 7s\tremaining: 3m 2s\n",
      "271:\tlearn: 0.4416463\ttotal: 1m 7s\tremaining: 3m 1s\n",
      "272:\tlearn: 0.4411740\ttotal: 1m 8s\tremaining: 3m 1s\n",
      "273:\tlearn: 0.4405235\ttotal: 1m 8s\tremaining: 3m 1s\n",
      "274:\tlearn: 0.4400193\ttotal: 1m 8s\tremaining: 3m 1s\n",
      "275:\tlearn: 0.4395355\ttotal: 1m 8s\tremaining: 3m\n",
      "276:\tlearn: 0.4391777\ttotal: 1m 9s\tremaining: 3m\n",
      "277:\tlearn: 0.4387114\ttotal: 1m 9s\tremaining: 3m\n",
      "278:\tlearn: 0.4381553\ttotal: 1m 9s\tremaining: 3m\n",
      "279:\tlearn: 0.4378002\ttotal: 1m 9s\tremaining: 2m 59s\n",
      "280:\tlearn: 0.4373938\ttotal: 1m 10s\tremaining: 2m 59s\n",
      "281:\tlearn: 0.4370050\ttotal: 1m 10s\tremaining: 2m 59s\n",
      "282:\tlearn: 0.4364744\ttotal: 1m 10s\tremaining: 2m 59s\n",
      "283:\tlearn: 0.4361441\ttotal: 1m 10s\tremaining: 2m 58s\n",
      "284:\tlearn: 0.4356413\ttotal: 1m 11s\tremaining: 2m 58s\n",
      "285:\tlearn: 0.4351192\ttotal: 1m 11s\tremaining: 2m 58s\n",
      "286:\tlearn: 0.4346783\ttotal: 1m 11s\tremaining: 2m 58s\n",
      "287:\tlearn: 0.4342307\ttotal: 1m 11s\tremaining: 2m 57s\n",
      "288:\tlearn: 0.4337874\ttotal: 1m 12s\tremaining: 2m 57s\n",
      "289:\tlearn: 0.4333768\ttotal: 1m 12s\tremaining: 2m 57s\n",
      "290:\tlearn: 0.4329748\ttotal: 1m 12s\tremaining: 2m 57s\n",
      "291:\tlearn: 0.4326446\ttotal: 1m 12s\tremaining: 2m 56s\n",
      "292:\tlearn: 0.4321908\ttotal: 1m 13s\tremaining: 2m 56s\n",
      "293:\tlearn: 0.4317206\ttotal: 1m 13s\tremaining: 2m 56s\n",
      "294:\tlearn: 0.4311836\ttotal: 1m 13s\tremaining: 2m 56s\n",
      "295:\tlearn: 0.4306108\ttotal: 1m 14s\tremaining: 2m 56s\n",
      "296:\tlearn: 0.4301426\ttotal: 1m 14s\tremaining: 2m 55s\n",
      "297:\tlearn: 0.4296412\ttotal: 1m 14s\tremaining: 2m 55s\n",
      "298:\tlearn: 0.4292993\ttotal: 1m 14s\tremaining: 2m 55s\n",
      "299:\tlearn: 0.4288150\ttotal: 1m 15s\tremaining: 2m 55s\n",
      "300:\tlearn: 0.4283243\ttotal: 1m 15s\tremaining: 2m 54s\n",
      "301:\tlearn: 0.4279962\ttotal: 1m 15s\tremaining: 2m 54s\n",
      "302:\tlearn: 0.4275313\ttotal: 1m 15s\tremaining: 2m 54s\n",
      "303:\tlearn: 0.4270918\ttotal: 1m 16s\tremaining: 2m 54s\n",
      "304:\tlearn: 0.4266583\ttotal: 1m 16s\tremaining: 2m 53s\n",
      "305:\tlearn: 0.4262921\ttotal: 1m 16s\tremaining: 2m 53s\n",
      "306:\tlearn: 0.4257598\ttotal: 1m 16s\tremaining: 2m 53s\n",
      "307:\tlearn: 0.4253347\ttotal: 1m 17s\tremaining: 2m 53s\n",
      "308:\tlearn: 0.4248273\ttotal: 1m 17s\tremaining: 2m 52s\n",
      "309:\tlearn: 0.4242568\ttotal: 1m 17s\tremaining: 2m 52s\n",
      "310:\tlearn: 0.4238408\ttotal: 1m 17s\tremaining: 2m 52s\n",
      "311:\tlearn: 0.4234838\ttotal: 1m 18s\tremaining: 2m 52s\n",
      "312:\tlearn: 0.4231165\ttotal: 1m 18s\tremaining: 2m 52s\n",
      "313:\tlearn: 0.4227682\ttotal: 1m 18s\tremaining: 2m 51s\n",
      "314:\tlearn: 0.4224586\ttotal: 1m 19s\tremaining: 2m 51s\n",
      "315:\tlearn: 0.4220033\ttotal: 1m 19s\tremaining: 2m 51s\n",
      "316:\tlearn: 0.4216542\ttotal: 1m 19s\tremaining: 2m 51s\n",
      "317:\tlearn: 0.4212644\ttotal: 1m 19s\tremaining: 2m 51s\n",
      "318:\tlearn: 0.4208756\ttotal: 1m 20s\tremaining: 2m 51s\n",
      "319:\tlearn: 0.4205296\ttotal: 1m 20s\tremaining: 2m 51s\n",
      "320:\tlearn: 0.4202169\ttotal: 1m 20s\tremaining: 2m 50s\n",
      "321:\tlearn: 0.4197770\ttotal: 1m 21s\tremaining: 2m 50s\n",
      "322:\tlearn: 0.4194006\ttotal: 1m 21s\tremaining: 2m 50s\n",
      "323:\tlearn: 0.4190137\ttotal: 1m 21s\tremaining: 2m 50s\n",
      "324:\tlearn: 0.4184418\ttotal: 1m 21s\tremaining: 2m 49s\n",
      "325:\tlearn: 0.4179395\ttotal: 1m 22s\tremaining: 2m 49s\n",
      "326:\tlearn: 0.4175517\ttotal: 1m 22s\tremaining: 2m 49s\n",
      "327:\tlearn: 0.4171307\ttotal: 1m 22s\tremaining: 2m 49s\n",
      "328:\tlearn: 0.4168491\ttotal: 1m 22s\tremaining: 2m 49s\n",
      "329:\tlearn: 0.4164142\ttotal: 1m 23s\tremaining: 2m 49s\n",
      "330:\tlearn: 0.4159232\ttotal: 1m 23s\tremaining: 2m 48s\n",
      "331:\tlearn: 0.4154951\ttotal: 1m 23s\tremaining: 2m 48s\n",
      "332:\tlearn: 0.4151569\ttotal: 1m 24s\tremaining: 2m 48s\n",
      "333:\tlearn: 0.4147062\ttotal: 1m 24s\tremaining: 2m 48s\n",
      "334:\tlearn: 0.4143361\ttotal: 1m 24s\tremaining: 2m 48s\n",
      "335:\tlearn: 0.4138053\ttotal: 1m 25s\tremaining: 2m 48s\n",
      "336:\tlearn: 0.4133419\ttotal: 1m 25s\tremaining: 2m 47s\n",
      "337:\tlearn: 0.4127469\ttotal: 1m 25s\tremaining: 2m 47s\n",
      "338:\tlearn: 0.4124573\ttotal: 1m 25s\tremaining: 2m 47s\n",
      "339:\tlearn: 0.4120440\ttotal: 1m 26s\tremaining: 2m 47s\n",
      "340:\tlearn: 0.4115491\ttotal: 1m 26s\tremaining: 2m 47s\n",
      "341:\tlearn: 0.4113101\ttotal: 1m 26s\tremaining: 2m 46s\n",
      "342:\tlearn: 0.4108266\ttotal: 1m 27s\tremaining: 2m 46s\n",
      "343:\tlearn: 0.4104160\ttotal: 1m 27s\tremaining: 2m 46s\n",
      "344:\tlearn: 0.4099571\ttotal: 1m 27s\tremaining: 2m 46s\n",
      "345:\tlearn: 0.4095369\ttotal: 1m 27s\tremaining: 2m 46s\n",
      "346:\tlearn: 0.4092135\ttotal: 1m 28s\tremaining: 2m 45s\n",
      "347:\tlearn: 0.4087663\ttotal: 1m 28s\tremaining: 2m 45s\n",
      "348:\tlearn: 0.4083749\ttotal: 1m 28s\tremaining: 2m 45s\n",
      "349:\tlearn: 0.4080857\ttotal: 1m 29s\tremaining: 2m 45s\n",
      "350:\tlearn: 0.4077381\ttotal: 1m 29s\tremaining: 2m 45s\n",
      "351:\tlearn: 0.4072967\ttotal: 1m 29s\tremaining: 2m 45s\n",
      "352:\tlearn: 0.4069269\ttotal: 1m 29s\tremaining: 2m 44s\n",
      "353:\tlearn: 0.4064735\ttotal: 1m 30s\tremaining: 2m 44s\n",
      "354:\tlearn: 0.4059396\ttotal: 1m 30s\tremaining: 2m 44s\n",
      "355:\tlearn: 0.4056707\ttotal: 1m 30s\tremaining: 2m 44s\n",
      "356:\tlearn: 0.4053602\ttotal: 1m 31s\tremaining: 2m 44s\n",
      "357:\tlearn: 0.4050358\ttotal: 1m 31s\tremaining: 2m 44s\n",
      "358:\tlearn: 0.4046384\ttotal: 1m 31s\tremaining: 2m 44s\n",
      "359:\tlearn: 0.4042561\ttotal: 1m 32s\tremaining: 2m 43s\n",
      "360:\tlearn: 0.4039918\ttotal: 1m 32s\tremaining: 2m 43s\n",
      "361:\tlearn: 0.4036325\ttotal: 1m 32s\tremaining: 2m 43s\n",
      "362:\tlearn: 0.4032150\ttotal: 1m 33s\tremaining: 2m 43s\n",
      "363:\tlearn: 0.4027735\ttotal: 1m 33s\tremaining: 2m 43s\n",
      "364:\tlearn: 0.4023370\ttotal: 1m 33s\tremaining: 2m 42s\n",
      "365:\tlearn: 0.4017827\ttotal: 1m 33s\tremaining: 2m 42s\n",
      "366:\tlearn: 0.4014513\ttotal: 1m 34s\tremaining: 2m 42s\n",
      "367:\tlearn: 0.4011100\ttotal: 1m 34s\tremaining: 2m 42s\n",
      "368:\tlearn: 0.4006125\ttotal: 1m 34s\tremaining: 2m 41s\n",
      "369:\tlearn: 0.4003206\ttotal: 1m 35s\tremaining: 2m 41s\n",
      "370:\tlearn: 0.3999082\ttotal: 1m 35s\tremaining: 2m 41s\n",
      "371:\tlearn: 0.3995469\ttotal: 1m 35s\tremaining: 2m 41s\n",
      "372:\tlearn: 0.3990727\ttotal: 1m 35s\tremaining: 2m 41s\n",
      "373:\tlearn: 0.3986149\ttotal: 1m 36s\tremaining: 2m 40s\n",
      "374:\tlearn: 0.3981731\ttotal: 1m 36s\tremaining: 2m 40s\n",
      "375:\tlearn: 0.3977294\ttotal: 1m 36s\tremaining: 2m 40s\n",
      "376:\tlearn: 0.3974167\ttotal: 1m 37s\tremaining: 2m 40s\n",
      "377:\tlearn: 0.3970394\ttotal: 1m 37s\tremaining: 2m 40s\n",
      "378:\tlearn: 0.3966601\ttotal: 1m 37s\tremaining: 2m 39s\n",
      "379:\tlearn: 0.3963549\ttotal: 1m 37s\tremaining: 2m 39s\n",
      "380:\tlearn: 0.3959700\ttotal: 1m 38s\tremaining: 2m 39s\n",
      "381:\tlearn: 0.3955612\ttotal: 1m 38s\tremaining: 2m 39s\n",
      "382:\tlearn: 0.3951492\ttotal: 1m 38s\tremaining: 2m 38s\n",
      "383:\tlearn: 0.3948843\ttotal: 1m 38s\tremaining: 2m 38s\n",
      "384:\tlearn: 0.3945039\ttotal: 1m 39s\tremaining: 2m 38s\n",
      "385:\tlearn: 0.3941090\ttotal: 1m 39s\tremaining: 2m 38s\n",
      "386:\tlearn: 0.3937645\ttotal: 1m 39s\tremaining: 2m 38s\n",
      "387:\tlearn: 0.3934420\ttotal: 1m 40s\tremaining: 2m 37s\n",
      "388:\tlearn: 0.3931105\ttotal: 1m 40s\tremaining: 2m 37s\n",
      "389:\tlearn: 0.3928294\ttotal: 1m 40s\tremaining: 2m 37s\n",
      "390:\tlearn: 0.3926020\ttotal: 1m 40s\tremaining: 2m 37s\n",
      "391:\tlearn: 0.3922390\ttotal: 1m 41s\tremaining: 2m 37s\n",
      "392:\tlearn: 0.3918384\ttotal: 1m 41s\tremaining: 2m 36s\n",
      "393:\tlearn: 0.3914717\ttotal: 1m 41s\tremaining: 2m 36s\n",
      "394:\tlearn: 0.3910957\ttotal: 1m 42s\tremaining: 2m 36s\n",
      "395:\tlearn: 0.3907461\ttotal: 1m 42s\tremaining: 2m 36s\n",
      "396:\tlearn: 0.3903964\ttotal: 1m 42s\tremaining: 2m 36s\n",
      "397:\tlearn: 0.3900069\ttotal: 1m 42s\tremaining: 2m 35s\n",
      "398:\tlearn: 0.3896509\ttotal: 1m 43s\tremaining: 2m 35s\n",
      "399:\tlearn: 0.3892651\ttotal: 1m 43s\tremaining: 2m 35s\n",
      "400:\tlearn: 0.3888821\ttotal: 1m 43s\tremaining: 2m 35s\n",
      "401:\tlearn: 0.3885762\ttotal: 1m 44s\tremaining: 2m 34s\n",
      "402:\tlearn: 0.3881257\ttotal: 1m 44s\tremaining: 2m 34s\n",
      "403:\tlearn: 0.3877822\ttotal: 1m 44s\tremaining: 2m 34s\n",
      "404:\tlearn: 0.3874649\ttotal: 1m 44s\tremaining: 2m 34s\n",
      "405:\tlearn: 0.3871264\ttotal: 1m 45s\tremaining: 2m 34s\n",
      "406:\tlearn: 0.3868688\ttotal: 1m 45s\tremaining: 2m 33s\n",
      "407:\tlearn: 0.3864752\ttotal: 1m 45s\tremaining: 2m 33s\n",
      "408:\tlearn: 0.3859927\ttotal: 1m 46s\tremaining: 2m 33s\n",
      "409:\tlearn: 0.3855510\ttotal: 1m 46s\tremaining: 2m 33s\n",
      "410:\tlearn: 0.3852169\ttotal: 1m 46s\tremaining: 2m 33s\n",
      "411:\tlearn: 0.3848594\ttotal: 1m 47s\tremaining: 2m 32s\n",
      "412:\tlearn: 0.3845098\ttotal: 1m 47s\tremaining: 2m 32s\n",
      "413:\tlearn: 0.3840777\ttotal: 1m 47s\tremaining: 2m 32s\n",
      "414:\tlearn: 0.3835727\ttotal: 1m 47s\tremaining: 2m 32s\n",
      "415:\tlearn: 0.3832939\ttotal: 1m 48s\tremaining: 2m 31s\n",
      "416:\tlearn: 0.3829544\ttotal: 1m 48s\tremaining: 2m 31s\n",
      "417:\tlearn: 0.3824885\ttotal: 1m 48s\tremaining: 2m 31s\n",
      "418:\tlearn: 0.3821381\ttotal: 1m 49s\tremaining: 2m 31s\n",
      "419:\tlearn: 0.3817262\ttotal: 1m 49s\tremaining: 2m 31s\n",
      "420:\tlearn: 0.3814953\ttotal: 1m 49s\tremaining: 2m 30s\n",
      "421:\tlearn: 0.3812713\ttotal: 1m 49s\tremaining: 2m 30s\n",
      "422:\tlearn: 0.3810832\ttotal: 1m 50s\tremaining: 2m 30s\n",
      "423:\tlearn: 0.3806518\ttotal: 1m 50s\tremaining: 2m 30s\n",
      "424:\tlearn: 0.3803125\ttotal: 1m 50s\tremaining: 2m 29s\n",
      "425:\tlearn: 0.3799526\ttotal: 1m 51s\tremaining: 2m 29s\n",
      "426:\tlearn: 0.3795518\ttotal: 1m 51s\tremaining: 2m 29s\n",
      "427:\tlearn: 0.3792661\ttotal: 1m 51s\tremaining: 2m 29s\n",
      "428:\tlearn: 0.3788357\ttotal: 1m 51s\tremaining: 2m 29s\n",
      "429:\tlearn: 0.3784879\ttotal: 1m 52s\tremaining: 2m 28s\n",
      "430:\tlearn: 0.3781869\ttotal: 1m 52s\tremaining: 2m 28s\n",
      "431:\tlearn: 0.3778794\ttotal: 1m 52s\tremaining: 2m 28s\n",
      "432:\tlearn: 0.3774566\ttotal: 1m 53s\tremaining: 2m 28s\n",
      "433:\tlearn: 0.3771432\ttotal: 1m 53s\tremaining: 2m 27s\n",
      "434:\tlearn: 0.3767928\ttotal: 1m 53s\tremaining: 2m 27s\n",
      "435:\tlearn: 0.3764279\ttotal: 1m 54s\tremaining: 2m 27s\n",
      "436:\tlearn: 0.3760855\ttotal: 1m 54s\tremaining: 2m 27s\n",
      "437:\tlearn: 0.3756579\ttotal: 1m 54s\tremaining: 2m 27s\n",
      "438:\tlearn: 0.3754075\ttotal: 1m 54s\tremaining: 2m 26s\n",
      "439:\tlearn: 0.3750333\ttotal: 1m 55s\tremaining: 2m 26s\n",
      "440:\tlearn: 0.3747201\ttotal: 1m 55s\tremaining: 2m 26s\n",
      "441:\tlearn: 0.3743483\ttotal: 1m 55s\tremaining: 2m 26s\n",
      "442:\tlearn: 0.3739184\ttotal: 1m 56s\tremaining: 2m 26s\n",
      "443:\tlearn: 0.3734516\ttotal: 1m 56s\tremaining: 2m 25s\n",
      "444:\tlearn: 0.3731020\ttotal: 1m 56s\tremaining: 2m 25s\n",
      "445:\tlearn: 0.3727625\ttotal: 1m 57s\tremaining: 2m 25s\n",
      "446:\tlearn: 0.3723271\ttotal: 1m 57s\tremaining: 2m 25s\n",
      "447:\tlearn: 0.3718406\ttotal: 1m 57s\tremaining: 2m 25s\n",
      "448:\tlearn: 0.3715156\ttotal: 1m 57s\tremaining: 2m 24s\n",
      "449:\tlearn: 0.3711653\ttotal: 1m 58s\tremaining: 2m 24s\n",
      "450:\tlearn: 0.3708153\ttotal: 1m 58s\tremaining: 2m 24s\n",
      "451:\tlearn: 0.3704560\ttotal: 1m 58s\tremaining: 2m 24s\n",
      "452:\tlearn: 0.3700629\ttotal: 1m 59s\tremaining: 2m 23s\n",
      "453:\tlearn: 0.3697400\ttotal: 1m 59s\tremaining: 2m 23s\n",
      "454:\tlearn: 0.3694315\ttotal: 1m 59s\tremaining: 2m 23s\n",
      "455:\tlearn: 0.3690230\ttotal: 2m\tremaining: 2m 23s\n",
      "456:\tlearn: 0.3685228\ttotal: 2m\tremaining: 2m 22s\n",
      "457:\tlearn: 0.3681853\ttotal: 2m\tremaining: 2m 22s\n",
      "458:\tlearn: 0.3678419\ttotal: 2m\tremaining: 2m 22s\n",
      "459:\tlearn: 0.3675282\ttotal: 2m 1s\tremaining: 2m 22s\n",
      "460:\tlearn: 0.3671877\ttotal: 2m 1s\tremaining: 2m 22s\n",
      "461:\tlearn: 0.3669218\ttotal: 2m 1s\tremaining: 2m 21s\n",
      "462:\tlearn: 0.3665474\ttotal: 2m 2s\tremaining: 2m 21s\n",
      "463:\tlearn: 0.3661091\ttotal: 2m 2s\tremaining: 2m 21s\n",
      "464:\tlearn: 0.3658222\ttotal: 2m 2s\tremaining: 2m 21s\n",
      "465:\tlearn: 0.3653852\ttotal: 2m 2s\tremaining: 2m 20s\n",
      "466:\tlearn: 0.3648230\ttotal: 2m 3s\tremaining: 2m 20s\n",
      "467:\tlearn: 0.3644685\ttotal: 2m 3s\tremaining: 2m 20s\n",
      "468:\tlearn: 0.3640913\ttotal: 2m 3s\tremaining: 2m 20s\n",
      "469:\tlearn: 0.3638025\ttotal: 2m 4s\tremaining: 2m 20s\n",
      "470:\tlearn: 0.3633784\ttotal: 2m 4s\tremaining: 2m 19s\n",
      "471:\tlearn: 0.3631405\ttotal: 2m 4s\tremaining: 2m 19s\n",
      "472:\tlearn: 0.3627036\ttotal: 2m 5s\tremaining: 2m 19s\n",
      "473:\tlearn: 0.3621893\ttotal: 2m 5s\tremaining: 2m 19s\n",
      "474:\tlearn: 0.3617459\ttotal: 2m 5s\tremaining: 2m 18s\n",
      "475:\tlearn: 0.3613456\ttotal: 2m 5s\tremaining: 2m 18s\n",
      "476:\tlearn: 0.3610837\ttotal: 2m 6s\tremaining: 2m 18s\n",
      "477:\tlearn: 0.3605536\ttotal: 2m 6s\tremaining: 2m 18s\n",
      "478:\tlearn: 0.3602711\ttotal: 2m 6s\tremaining: 2m 17s\n",
      "479:\tlearn: 0.3599863\ttotal: 2m 7s\tremaining: 2m 17s\n",
      "480:\tlearn: 0.3596838\ttotal: 2m 7s\tremaining: 2m 17s\n",
      "481:\tlearn: 0.3593490\ttotal: 2m 7s\tremaining: 2m 17s\n",
      "482:\tlearn: 0.3588925\ttotal: 2m 7s\tremaining: 2m 16s\n",
      "483:\tlearn: 0.3585016\ttotal: 2m 8s\tremaining: 2m 16s\n",
      "484:\tlearn: 0.3582305\ttotal: 2m 8s\tremaining: 2m 16s\n",
      "485:\tlearn: 0.3577263\ttotal: 2m 8s\tremaining: 2m 16s\n",
      "486:\tlearn: 0.3573081\ttotal: 2m 9s\tremaining: 2m 16s\n",
      "487:\tlearn: 0.3569073\ttotal: 2m 9s\tremaining: 2m 15s\n",
      "488:\tlearn: 0.3566568\ttotal: 2m 9s\tremaining: 2m 15s\n",
      "489:\tlearn: 0.3562298\ttotal: 2m 10s\tremaining: 2m 15s\n",
      "490:\tlearn: 0.3558228\ttotal: 2m 10s\tremaining: 2m 15s\n",
      "491:\tlearn: 0.3555172\ttotal: 2m 10s\tremaining: 2m 14s\n",
      "492:\tlearn: 0.3551784\ttotal: 2m 10s\tremaining: 2m 14s\n",
      "493:\tlearn: 0.3547180\ttotal: 2m 11s\tremaining: 2m 14s\n",
      "494:\tlearn: 0.3542732\ttotal: 2m 11s\tremaining: 2m 14s\n",
      "495:\tlearn: 0.3538716\ttotal: 2m 11s\tremaining: 2m 13s\n",
      "496:\tlearn: 0.3534995\ttotal: 2m 12s\tremaining: 2m 13s\n",
      "497:\tlearn: 0.3531557\ttotal: 2m 12s\tremaining: 2m 13s\n",
      "498:\tlearn: 0.3529299\ttotal: 2m 12s\tremaining: 2m 13s\n",
      "499:\tlearn: 0.3524238\ttotal: 2m 13s\tremaining: 2m 13s\n",
      "500:\tlearn: 0.3520989\ttotal: 2m 13s\tremaining: 2m 12s\n",
      "501:\tlearn: 0.3517943\ttotal: 2m 13s\tremaining: 2m 12s\n",
      "502:\tlearn: 0.3514157\ttotal: 2m 13s\tremaining: 2m 12s\n",
      "503:\tlearn: 0.3509768\ttotal: 2m 14s\tremaining: 2m 12s\n",
      "504:\tlearn: 0.3506575\ttotal: 2m 14s\tremaining: 2m 11s\n",
      "505:\tlearn: 0.3502847\ttotal: 2m 14s\tremaining: 2m 11s\n",
      "506:\tlearn: 0.3498849\ttotal: 2m 15s\tremaining: 2m 11s\n",
      "507:\tlearn: 0.3495991\ttotal: 2m 15s\tremaining: 2m 11s\n",
      "508:\tlearn: 0.3492936\ttotal: 2m 15s\tremaining: 2m 10s\n",
      "509:\tlearn: 0.3489006\ttotal: 2m 15s\tremaining: 2m 10s\n",
      "510:\tlearn: 0.3485676\ttotal: 2m 16s\tremaining: 2m 10s\n",
      "511:\tlearn: 0.3481052\ttotal: 2m 16s\tremaining: 2m 10s\n",
      "512:\tlearn: 0.3478094\ttotal: 2m 16s\tremaining: 2m 9s\n",
      "513:\tlearn: 0.3474514\ttotal: 2m 17s\tremaining: 2m 9s\n",
      "514:\tlearn: 0.3471732\ttotal: 2m 17s\tremaining: 2m 9s\n",
      "515:\tlearn: 0.3467987\ttotal: 2m 17s\tremaining: 2m 9s\n",
      "516:\tlearn: 0.3463210\ttotal: 2m 17s\tremaining: 2m 8s\n",
      "517:\tlearn: 0.3460171\ttotal: 2m 18s\tremaining: 2m 8s\n",
      "518:\tlearn: 0.3456432\ttotal: 2m 18s\tremaining: 2m 8s\n",
      "519:\tlearn: 0.3452730\ttotal: 2m 18s\tremaining: 2m 8s\n",
      "520:\tlearn: 0.3450951\ttotal: 2m 19s\tremaining: 2m 7s\n",
      "521:\tlearn: 0.3448117\ttotal: 2m 19s\tremaining: 2m 7s\n",
      "522:\tlearn: 0.3445814\ttotal: 2m 19s\tremaining: 2m 7s\n",
      "523:\tlearn: 0.3442111\ttotal: 2m 19s\tremaining: 2m 7s\n",
      "524:\tlearn: 0.3438437\ttotal: 2m 20s\tremaining: 2m 6s\n",
      "525:\tlearn: 0.3434997\ttotal: 2m 20s\tremaining: 2m 6s\n",
      "526:\tlearn: 0.3431537\ttotal: 2m 20s\tremaining: 2m 6s\n",
      "527:\tlearn: 0.3427766\ttotal: 2m 21s\tremaining: 2m 6s\n",
      "528:\tlearn: 0.3424858\ttotal: 2m 21s\tremaining: 2m 5s\n",
      "529:\tlearn: 0.3421539\ttotal: 2m 21s\tremaining: 2m 5s\n",
      "530:\tlearn: 0.3418171\ttotal: 2m 21s\tremaining: 2m 5s\n",
      "531:\tlearn: 0.3415677\ttotal: 2m 22s\tremaining: 2m 5s\n",
      "532:\tlearn: 0.3413282\ttotal: 2m 22s\tremaining: 2m 4s\n",
      "533:\tlearn: 0.3409347\ttotal: 2m 22s\tremaining: 2m 4s\n",
      "534:\tlearn: 0.3406154\ttotal: 2m 23s\tremaining: 2m 4s\n",
      "535:\tlearn: 0.3402561\ttotal: 2m 23s\tremaining: 2m 4s\n",
      "536:\tlearn: 0.3399018\ttotal: 2m 23s\tremaining: 2m 3s\n",
      "537:\tlearn: 0.3396375\ttotal: 2m 23s\tremaining: 2m 3s\n",
      "538:\tlearn: 0.3393083\ttotal: 2m 24s\tremaining: 2m 3s\n",
      "539:\tlearn: 0.3390332\ttotal: 2m 24s\tremaining: 2m 3s\n",
      "540:\tlearn: 0.3387169\ttotal: 2m 24s\tremaining: 2m 2s\n",
      "541:\tlearn: 0.3384202\ttotal: 2m 25s\tremaining: 2m 2s\n",
      "542:\tlearn: 0.3380323\ttotal: 2m 25s\tremaining: 2m 2s\n",
      "543:\tlearn: 0.3377248\ttotal: 2m 25s\tremaining: 2m 2s\n",
      "544:\tlearn: 0.3373751\ttotal: 2m 25s\tremaining: 2m 1s\n",
      "545:\tlearn: 0.3371262\ttotal: 2m 26s\tremaining: 2m 1s\n",
      "546:\tlearn: 0.3367640\ttotal: 2m 26s\tremaining: 2m 1s\n",
      "547:\tlearn: 0.3364655\ttotal: 2m 26s\tremaining: 2m 1s\n",
      "548:\tlearn: 0.3361471\ttotal: 2m 27s\tremaining: 2m\n",
      "549:\tlearn: 0.3358255\ttotal: 2m 27s\tremaining: 2m\n",
      "550:\tlearn: 0.3354483\ttotal: 2m 27s\tremaining: 2m\n",
      "551:\tlearn: 0.3350103\ttotal: 2m 28s\tremaining: 2m\n",
      "552:\tlearn: 0.3347021\ttotal: 2m 28s\tremaining: 1m 59s\n",
      "553:\tlearn: 0.3343157\ttotal: 2m 28s\tremaining: 1m 59s\n",
      "554:\tlearn: 0.3339320\ttotal: 2m 28s\tremaining: 1m 59s\n",
      "555:\tlearn: 0.3334578\ttotal: 2m 29s\tremaining: 1m 59s\n",
      "556:\tlearn: 0.3330719\ttotal: 2m 29s\tremaining: 1m 58s\n",
      "557:\tlearn: 0.3327031\ttotal: 2m 29s\tremaining: 1m 58s\n",
      "558:\tlearn: 0.3323092\ttotal: 2m 30s\tremaining: 1m 58s\n",
      "559:\tlearn: 0.3320224\ttotal: 2m 30s\tremaining: 1m 58s\n",
      "560:\tlearn: 0.3316425\ttotal: 2m 30s\tremaining: 1m 57s\n",
      "561:\tlearn: 0.3312697\ttotal: 2m 30s\tremaining: 1m 57s\n",
      "562:\tlearn: 0.3309493\ttotal: 2m 31s\tremaining: 1m 57s\n",
      "563:\tlearn: 0.3306170\ttotal: 2m 31s\tremaining: 1m 57s\n",
      "564:\tlearn: 0.3302084\ttotal: 2m 31s\tremaining: 1m 56s\n",
      "565:\tlearn: 0.3298718\ttotal: 2m 32s\tremaining: 1m 56s\n",
      "566:\tlearn: 0.3295247\ttotal: 2m 32s\tremaining: 1m 56s\n",
      "567:\tlearn: 0.3291710\ttotal: 2m 32s\tremaining: 1m 56s\n",
      "568:\tlearn: 0.3287606\ttotal: 2m 32s\tremaining: 1m 55s\n",
      "569:\tlearn: 0.3283136\ttotal: 2m 33s\tremaining: 1m 55s\n",
      "570:\tlearn: 0.3280128\ttotal: 2m 33s\tremaining: 1m 55s\n",
      "571:\tlearn: 0.3277110\ttotal: 2m 33s\tremaining: 1m 55s\n",
      "572:\tlearn: 0.3273175\ttotal: 2m 33s\tremaining: 1m 54s\n",
      "573:\tlearn: 0.3270619\ttotal: 2m 34s\tremaining: 1m 54s\n",
      "574:\tlearn: 0.3267004\ttotal: 2m 34s\tremaining: 1m 54s\n",
      "575:\tlearn: 0.3263260\ttotal: 2m 34s\tremaining: 1m 53s\n",
      "576:\tlearn: 0.3259016\ttotal: 2m 35s\tremaining: 1m 53s\n",
      "577:\tlearn: 0.3255649\ttotal: 2m 35s\tremaining: 1m 53s\n",
      "578:\tlearn: 0.3252357\ttotal: 2m 35s\tremaining: 1m 53s\n",
      "579:\tlearn: 0.3248791\ttotal: 2m 35s\tremaining: 1m 52s\n",
      "580:\tlearn: 0.3244965\ttotal: 2m 36s\tremaining: 1m 52s\n",
      "581:\tlearn: 0.3241793\ttotal: 2m 36s\tremaining: 1m 52s\n",
      "582:\tlearn: 0.3239030\ttotal: 2m 36s\tremaining: 1m 52s\n",
      "583:\tlearn: 0.3234609\ttotal: 2m 37s\tremaining: 1m 51s\n",
      "584:\tlearn: 0.3229921\ttotal: 2m 37s\tremaining: 1m 51s\n",
      "585:\tlearn: 0.3225153\ttotal: 2m 37s\tremaining: 1m 51s\n",
      "586:\tlearn: 0.3220849\ttotal: 2m 37s\tremaining: 1m 51s\n",
      "587:\tlearn: 0.3217208\ttotal: 2m 38s\tremaining: 1m 50s\n",
      "588:\tlearn: 0.3213569\ttotal: 2m 38s\tremaining: 1m 50s\n",
      "589:\tlearn: 0.3209017\ttotal: 2m 38s\tremaining: 1m 50s\n",
      "590:\tlearn: 0.3205893\ttotal: 2m 38s\tremaining: 1m 50s\n",
      "591:\tlearn: 0.3202709\ttotal: 2m 39s\tremaining: 1m 49s\n",
      "592:\tlearn: 0.3198526\ttotal: 2m 39s\tremaining: 1m 49s\n",
      "593:\tlearn: 0.3194993\ttotal: 2m 39s\tremaining: 1m 49s\n",
      "594:\tlearn: 0.3190608\ttotal: 2m 40s\tremaining: 1m 48s\n",
      "595:\tlearn: 0.3185671\ttotal: 2m 40s\tremaining: 1m 48s\n",
      "596:\tlearn: 0.3182193\ttotal: 2m 40s\tremaining: 1m 48s\n",
      "597:\tlearn: 0.3178347\ttotal: 2m 40s\tremaining: 1m 48s\n",
      "598:\tlearn: 0.3174376\ttotal: 2m 41s\tremaining: 1m 47s\n",
      "599:\tlearn: 0.3170934\ttotal: 2m 41s\tremaining: 1m 47s\n",
      "600:\tlearn: 0.3166593\ttotal: 2m 41s\tremaining: 1m 47s\n",
      "601:\tlearn: 0.3163683\ttotal: 2m 42s\tremaining: 1m 47s\n",
      "602:\tlearn: 0.3159962\ttotal: 2m 42s\tremaining: 1m 47s\n",
      "603:\tlearn: 0.3156578\ttotal: 2m 42s\tremaining: 1m 46s\n",
      "604:\tlearn: 0.3153138\ttotal: 2m 43s\tremaining: 1m 46s\n",
      "605:\tlearn: 0.3149168\ttotal: 2m 43s\tremaining: 1m 46s\n",
      "606:\tlearn: 0.3143944\ttotal: 2m 43s\tremaining: 1m 46s\n",
      "607:\tlearn: 0.3141281\ttotal: 2m 44s\tremaining: 1m 45s\n",
      "608:\tlearn: 0.3137238\ttotal: 2m 44s\tremaining: 1m 45s\n",
      "609:\tlearn: 0.3133715\ttotal: 2m 44s\tremaining: 1m 45s\n",
      "610:\tlearn: 0.3129600\ttotal: 2m 45s\tremaining: 1m 45s\n",
      "611:\tlearn: 0.3126251\ttotal: 2m 45s\tremaining: 1m 44s\n",
      "612:\tlearn: 0.3122464\ttotal: 2m 45s\tremaining: 1m 44s\n",
      "613:\tlearn: 0.3118169\ttotal: 2m 45s\tremaining: 1m 44s\n",
      "614:\tlearn: 0.3115375\ttotal: 2m 46s\tremaining: 1m 44s\n",
      "615:\tlearn: 0.3111611\ttotal: 2m 46s\tremaining: 1m 43s\n",
      "616:\tlearn: 0.3107638\ttotal: 2m 46s\tremaining: 1m 43s\n",
      "617:\tlearn: 0.3102950\ttotal: 2m 47s\tremaining: 1m 43s\n",
      "618:\tlearn: 0.3099382\ttotal: 2m 47s\tremaining: 1m 43s\n",
      "619:\tlearn: 0.3096751\ttotal: 2m 47s\tremaining: 1m 42s\n",
      "620:\tlearn: 0.3093483\ttotal: 2m 47s\tremaining: 1m 42s\n",
      "621:\tlearn: 0.3089641\ttotal: 2m 48s\tremaining: 1m 42s\n",
      "622:\tlearn: 0.3085429\ttotal: 2m 48s\tremaining: 1m 41s\n",
      "623:\tlearn: 0.3081240\ttotal: 2m 48s\tremaining: 1m 41s\n",
      "624:\tlearn: 0.3077784\ttotal: 2m 48s\tremaining: 1m 41s\n",
      "625:\tlearn: 0.3072107\ttotal: 2m 49s\tremaining: 1m 41s\n",
      "626:\tlearn: 0.3068550\ttotal: 2m 49s\tremaining: 1m 40s\n",
      "627:\tlearn: 0.3065452\ttotal: 2m 49s\tremaining: 1m 40s\n",
      "628:\tlearn: 0.3062186\ttotal: 2m 50s\tremaining: 1m 40s\n",
      "629:\tlearn: 0.3059130\ttotal: 2m 50s\tremaining: 1m 40s\n",
      "630:\tlearn: 0.3055762\ttotal: 2m 50s\tremaining: 1m 39s\n",
      "631:\tlearn: 0.3053619\ttotal: 2m 50s\tremaining: 1m 39s\n",
      "632:\tlearn: 0.3050098\ttotal: 2m 51s\tremaining: 1m 39s\n",
      "633:\tlearn: 0.3046366\ttotal: 2m 51s\tremaining: 1m 39s\n",
      "634:\tlearn: 0.3042930\ttotal: 2m 51s\tremaining: 1m 38s\n",
      "635:\tlearn: 0.3039332\ttotal: 2m 52s\tremaining: 1m 38s\n",
      "636:\tlearn: 0.3035113\ttotal: 2m 52s\tremaining: 1m 38s\n",
      "637:\tlearn: 0.3031071\ttotal: 2m 52s\tremaining: 1m 37s\n",
      "638:\tlearn: 0.3027295\ttotal: 2m 52s\tremaining: 1m 37s\n",
      "639:\tlearn: 0.3022692\ttotal: 2m 53s\tremaining: 1m 37s\n",
      "640:\tlearn: 0.3019361\ttotal: 2m 53s\tremaining: 1m 37s\n",
      "641:\tlearn: 0.3016456\ttotal: 2m 53s\tremaining: 1m 36s\n",
      "642:\tlearn: 0.3013994\ttotal: 2m 53s\tremaining: 1m 36s\n",
      "643:\tlearn: 0.3010586\ttotal: 2m 54s\tremaining: 1m 36s\n",
      "644:\tlearn: 0.3007460\ttotal: 2m 54s\tremaining: 1m 36s\n",
      "645:\tlearn: 0.3004421\ttotal: 2m 54s\tremaining: 1m 35s\n",
      "646:\tlearn: 0.3001207\ttotal: 2m 55s\tremaining: 1m 35s\n",
      "647:\tlearn: 0.2997365\ttotal: 2m 55s\tremaining: 1m 35s\n",
      "648:\tlearn: 0.2994159\ttotal: 2m 55s\tremaining: 1m 35s\n",
      "649:\tlearn: 0.2990388\ttotal: 2m 55s\tremaining: 1m 34s\n",
      "650:\tlearn: 0.2987138\ttotal: 2m 56s\tremaining: 1m 34s\n",
      "651:\tlearn: 0.2983865\ttotal: 2m 56s\tremaining: 1m 34s\n",
      "652:\tlearn: 0.2980823\ttotal: 2m 56s\tremaining: 1m 33s\n",
      "653:\tlearn: 0.2976272\ttotal: 2m 57s\tremaining: 1m 33s\n",
      "654:\tlearn: 0.2972454\ttotal: 2m 57s\tremaining: 1m 33s\n",
      "655:\tlearn: 0.2968194\ttotal: 2m 57s\tremaining: 1m 33s\n",
      "656:\tlearn: 0.2964645\ttotal: 2m 57s\tremaining: 1m 32s\n",
      "657:\tlearn: 0.2961631\ttotal: 2m 58s\tremaining: 1m 32s\n",
      "658:\tlearn: 0.2957514\ttotal: 2m 58s\tremaining: 1m 32s\n",
      "659:\tlearn: 0.2954577\ttotal: 2m 58s\tremaining: 1m 32s\n",
      "660:\tlearn: 0.2951038\ttotal: 2m 59s\tremaining: 1m 31s\n",
      "661:\tlearn: 0.2947683\ttotal: 2m 59s\tremaining: 1m 31s\n",
      "662:\tlearn: 0.2943662\ttotal: 2m 59s\tremaining: 1m 31s\n",
      "663:\tlearn: 0.2940907\ttotal: 2m 59s\tremaining: 1m 31s\n",
      "664:\tlearn: 0.2936878\ttotal: 3m\tremaining: 1m 30s\n",
      "665:\tlearn: 0.2932858\ttotal: 3m\tremaining: 1m 30s\n",
      "666:\tlearn: 0.2929203\ttotal: 3m\tremaining: 1m 30s\n",
      "667:\tlearn: 0.2924142\ttotal: 3m\tremaining: 1m 29s\n",
      "668:\tlearn: 0.2920226\ttotal: 3m 1s\tremaining: 1m 29s\n",
      "669:\tlearn: 0.2916584\ttotal: 3m 1s\tremaining: 1m 29s\n",
      "670:\tlearn: 0.2912716\ttotal: 3m 1s\tremaining: 1m 29s\n",
      "671:\tlearn: 0.2908241\ttotal: 3m 2s\tremaining: 1m 28s\n",
      "672:\tlearn: 0.2904346\ttotal: 3m 2s\tremaining: 1m 28s\n",
      "673:\tlearn: 0.2899864\ttotal: 3m 2s\tremaining: 1m 28s\n",
      "674:\tlearn: 0.2895521\ttotal: 3m 2s\tremaining: 1m 28s\n",
      "675:\tlearn: 0.2891670\ttotal: 3m 3s\tremaining: 1m 27s\n",
      "676:\tlearn: 0.2888066\ttotal: 3m 3s\tremaining: 1m 27s\n",
      "677:\tlearn: 0.2883518\ttotal: 3m 3s\tremaining: 1m 27s\n",
      "678:\tlearn: 0.2879940\ttotal: 3m 3s\tremaining: 1m 26s\n",
      "679:\tlearn: 0.2876757\ttotal: 3m 4s\tremaining: 1m 26s\n",
      "680:\tlearn: 0.2873335\ttotal: 3m 4s\tremaining: 1m 26s\n",
      "681:\tlearn: 0.2869133\ttotal: 3m 4s\tremaining: 1m 26s\n",
      "682:\tlearn: 0.2865437\ttotal: 3m 5s\tremaining: 1m 26s\n",
      "683:\tlearn: 0.2860565\ttotal: 3m 5s\tremaining: 1m 25s\n",
      "684:\tlearn: 0.2857045\ttotal: 3m 6s\tremaining: 1m 25s\n",
      "685:\tlearn: 0.2853496\ttotal: 3m 6s\tremaining: 1m 25s\n",
      "686:\tlearn: 0.2849301\ttotal: 3m 6s\tremaining: 1m 25s\n",
      "687:\tlearn: 0.2845213\ttotal: 3m 7s\tremaining: 1m 24s\n",
      "688:\tlearn: 0.2840925\ttotal: 3m 7s\tremaining: 1m 24s\n",
      "689:\tlearn: 0.2836544\ttotal: 3m 7s\tremaining: 1m 24s\n",
      "690:\tlearn: 0.2832616\ttotal: 3m 8s\tremaining: 1m 24s\n",
      "691:\tlearn: 0.2828099\ttotal: 3m 8s\tremaining: 1m 23s\n",
      "692:\tlearn: 0.2822587\ttotal: 3m 8s\tremaining: 1m 23s\n",
      "693:\tlearn: 0.2818663\ttotal: 3m 9s\tremaining: 1m 23s\n",
      "694:\tlearn: 0.2814899\ttotal: 3m 9s\tremaining: 1m 23s\n",
      "695:\tlearn: 0.2810724\ttotal: 3m 9s\tremaining: 1m 22s\n",
      "696:\tlearn: 0.2807253\ttotal: 3m 9s\tremaining: 1m 22s\n",
      "697:\tlearn: 0.2803191\ttotal: 3m 10s\tremaining: 1m 22s\n",
      "698:\tlearn: 0.2800023\ttotal: 3m 10s\tremaining: 1m 22s\n",
      "699:\tlearn: 0.2797015\ttotal: 3m 10s\tremaining: 1m 21s\n",
      "700:\tlearn: 0.2793129\ttotal: 3m 11s\tremaining: 1m 21s\n",
      "701:\tlearn: 0.2788611\ttotal: 3m 11s\tremaining: 1m 21s\n",
      "702:\tlearn: 0.2784566\ttotal: 3m 11s\tremaining: 1m 20s\n",
      "703:\tlearn: 0.2779978\ttotal: 3m 11s\tremaining: 1m 20s\n",
      "704:\tlearn: 0.2776591\ttotal: 3m 12s\tremaining: 1m 20s\n",
      "705:\tlearn: 0.2772061\ttotal: 3m 12s\tremaining: 1m 20s\n",
      "706:\tlearn: 0.2767376\ttotal: 3m 12s\tremaining: 1m 19s\n",
      "707:\tlearn: 0.2762047\ttotal: 3m 13s\tremaining: 1m 19s\n",
      "708:\tlearn: 0.2759237\ttotal: 3m 13s\tremaining: 1m 19s\n",
      "709:\tlearn: 0.2755516\ttotal: 3m 13s\tremaining: 1m 19s\n",
      "710:\tlearn: 0.2751497\ttotal: 3m 13s\tremaining: 1m 18s\n",
      "711:\tlearn: 0.2749213\ttotal: 3m 14s\tremaining: 1m 18s\n",
      "712:\tlearn: 0.2745103\ttotal: 3m 14s\tremaining: 1m 18s\n",
      "713:\tlearn: 0.2741550\ttotal: 3m 14s\tremaining: 1m 18s\n",
      "714:\tlearn: 0.2737607\ttotal: 3m 15s\tremaining: 1m 17s\n",
      "715:\tlearn: 0.2732940\ttotal: 3m 15s\tremaining: 1m 17s\n",
      "716:\tlearn: 0.2729500\ttotal: 3m 15s\tremaining: 1m 17s\n",
      "717:\tlearn: 0.2725548\ttotal: 3m 15s\tremaining: 1m 16s\n",
      "718:\tlearn: 0.2721802\ttotal: 3m 16s\tremaining: 1m 16s\n",
      "719:\tlearn: 0.2717571\ttotal: 3m 16s\tremaining: 1m 16s\n",
      "720:\tlearn: 0.2713399\ttotal: 3m 16s\tremaining: 1m 16s\n",
      "721:\tlearn: 0.2710389\ttotal: 3m 17s\tremaining: 1m 15s\n",
      "722:\tlearn: 0.2707709\ttotal: 3m 17s\tremaining: 1m 15s\n",
      "723:\tlearn: 0.2704132\ttotal: 3m 17s\tremaining: 1m 15s\n",
      "724:\tlearn: 0.2700399\ttotal: 3m 17s\tremaining: 1m 15s\n",
      "725:\tlearn: 0.2696166\ttotal: 3m 18s\tremaining: 1m 14s\n",
      "726:\tlearn: 0.2692315\ttotal: 3m 18s\tremaining: 1m 14s\n",
      "727:\tlearn: 0.2688550\ttotal: 3m 18s\tremaining: 1m 14s\n",
      "728:\tlearn: 0.2685473\ttotal: 3m 19s\tremaining: 1m 14s\n",
      "729:\tlearn: 0.2682068\ttotal: 3m 19s\tremaining: 1m 13s\n",
      "730:\tlearn: 0.2677777\ttotal: 3m 19s\tremaining: 1m 13s\n",
      "731:\tlearn: 0.2673395\ttotal: 3m 20s\tremaining: 1m 13s\n",
      "732:\tlearn: 0.2669890\ttotal: 3m 20s\tremaining: 1m 13s\n",
      "733:\tlearn: 0.2666929\ttotal: 3m 20s\tremaining: 1m 12s\n",
      "734:\tlearn: 0.2663368\ttotal: 3m 20s\tremaining: 1m 12s\n",
      "735:\tlearn: 0.2659774\ttotal: 3m 21s\tremaining: 1m 12s\n",
      "736:\tlearn: 0.2655780\ttotal: 3m 21s\tremaining: 1m 11s\n",
      "737:\tlearn: 0.2652371\ttotal: 3m 21s\tremaining: 1m 11s\n",
      "738:\tlearn: 0.2647534\ttotal: 3m 22s\tremaining: 1m 11s\n",
      "739:\tlearn: 0.2643619\ttotal: 3m 22s\tremaining: 1m 11s\n",
      "740:\tlearn: 0.2641296\ttotal: 3m 22s\tremaining: 1m 10s\n",
      "741:\tlearn: 0.2637711\ttotal: 3m 23s\tremaining: 1m 10s\n",
      "742:\tlearn: 0.2633922\ttotal: 3m 23s\tremaining: 1m 10s\n",
      "743:\tlearn: 0.2630773\ttotal: 3m 23s\tremaining: 1m 10s\n",
      "744:\tlearn: 0.2627282\ttotal: 3m 23s\tremaining: 1m 9s\n",
      "745:\tlearn: 0.2623960\ttotal: 3m 24s\tremaining: 1m 9s\n",
      "746:\tlearn: 0.2620629\ttotal: 3m 24s\tremaining: 1m 9s\n",
      "747:\tlearn: 0.2617927\ttotal: 3m 24s\tremaining: 1m 8s\n",
      "748:\tlearn: 0.2613536\ttotal: 3m 25s\tremaining: 1m 8s\n",
      "749:\tlearn: 0.2609715\ttotal: 3m 25s\tremaining: 1m 8s\n",
      "750:\tlearn: 0.2605453\ttotal: 3m 25s\tremaining: 1m 8s\n",
      "751:\tlearn: 0.2602476\ttotal: 3m 25s\tremaining: 1m 7s\n",
      "752:\tlearn: 0.2598144\ttotal: 3m 26s\tremaining: 1m 7s\n",
      "753:\tlearn: 0.2594365\ttotal: 3m 26s\tremaining: 1m 7s\n",
      "754:\tlearn: 0.2591130\ttotal: 3m 26s\tremaining: 1m 7s\n",
      "755:\tlearn: 0.2588027\ttotal: 3m 27s\tremaining: 1m 6s\n",
      "756:\tlearn: 0.2583999\ttotal: 3m 27s\tremaining: 1m 6s\n",
      "757:\tlearn: 0.2580370\ttotal: 3m 27s\tremaining: 1m 6s\n",
      "758:\tlearn: 0.2576785\ttotal: 3m 27s\tremaining: 1m 6s\n",
      "759:\tlearn: 0.2572953\ttotal: 3m 28s\tremaining: 1m 5s\n",
      "760:\tlearn: 0.2569962\ttotal: 3m 28s\tremaining: 1m 5s\n",
      "761:\tlearn: 0.2565529\ttotal: 3m 28s\tremaining: 1m 5s\n",
      "762:\tlearn: 0.2562690\ttotal: 3m 29s\tremaining: 1m 4s\n",
      "763:\tlearn: 0.2558504\ttotal: 3m 29s\tremaining: 1m 4s\n",
      "764:\tlearn: 0.2554897\ttotal: 3m 29s\tremaining: 1m 4s\n",
      "765:\tlearn: 0.2550004\ttotal: 3m 30s\tremaining: 1m 4s\n",
      "766:\tlearn: 0.2546588\ttotal: 3m 30s\tremaining: 1m 3s\n",
      "767:\tlearn: 0.2543569\ttotal: 3m 30s\tremaining: 1m 3s\n",
      "768:\tlearn: 0.2540188\ttotal: 3m 30s\tremaining: 1m 3s\n",
      "769:\tlearn: 0.2536439\ttotal: 3m 31s\tremaining: 1m 3s\n",
      "770:\tlearn: 0.2533101\ttotal: 3m 31s\tremaining: 1m 2s\n",
      "771:\tlearn: 0.2530153\ttotal: 3m 31s\tremaining: 1m 2s\n",
      "772:\tlearn: 0.2526648\ttotal: 3m 32s\tremaining: 1m 2s\n",
      "773:\tlearn: 0.2523227\ttotal: 3m 32s\tremaining: 1m 2s\n",
      "774:\tlearn: 0.2520834\ttotal: 3m 32s\tremaining: 1m 1s\n",
      "775:\tlearn: 0.2517755\ttotal: 3m 32s\tremaining: 1m 1s\n",
      "776:\tlearn: 0.2514012\ttotal: 3m 33s\tremaining: 1m 1s\n",
      "777:\tlearn: 0.2510298\ttotal: 3m 33s\tremaining: 1m\n",
      "778:\tlearn: 0.2506863\ttotal: 3m 33s\tremaining: 1m\n",
      "779:\tlearn: 0.2502511\ttotal: 3m 34s\tremaining: 1m\n",
      "780:\tlearn: 0.2498867\ttotal: 3m 34s\tremaining: 1m\n",
      "781:\tlearn: 0.2494953\ttotal: 3m 34s\tremaining: 59.9s\n",
      "782:\tlearn: 0.2491755\ttotal: 3m 34s\tremaining: 59.6s\n",
      "783:\tlearn: 0.2488025\ttotal: 3m 35s\tremaining: 59.3s\n",
      "784:\tlearn: 0.2484882\ttotal: 3m 35s\tremaining: 59s\n",
      "785:\tlearn: 0.2481477\ttotal: 3m 35s\tremaining: 58.8s\n",
      "786:\tlearn: 0.2477639\ttotal: 3m 36s\tremaining: 58.5s\n",
      "787:\tlearn: 0.2473980\ttotal: 3m 36s\tremaining: 58.2s\n",
      "788:\tlearn: 0.2471538\ttotal: 3m 36s\tremaining: 57.9s\n",
      "789:\tlearn: 0.2468395\ttotal: 3m 36s\tremaining: 57.6s\n",
      "790:\tlearn: 0.2465407\ttotal: 3m 37s\tremaining: 57.4s\n",
      "791:\tlearn: 0.2462656\ttotal: 3m 37s\tremaining: 57.1s\n",
      "792:\tlearn: 0.2459391\ttotal: 3m 37s\tremaining: 56.8s\n",
      "793:\tlearn: 0.2455612\ttotal: 3m 37s\tremaining: 56.5s\n",
      "794:\tlearn: 0.2451467\ttotal: 3m 38s\tremaining: 56.3s\n",
      "795:\tlearn: 0.2448980\ttotal: 3m 38s\tremaining: 56s\n",
      "796:\tlearn: 0.2446305\ttotal: 3m 38s\tremaining: 55.7s\n",
      "797:\tlearn: 0.2443157\ttotal: 3m 38s\tremaining: 55.4s\n",
      "798:\tlearn: 0.2439905\ttotal: 3m 39s\tremaining: 55.2s\n",
      "799:\tlearn: 0.2435649\ttotal: 3m 39s\tremaining: 54.9s\n",
      "800:\tlearn: 0.2432182\ttotal: 3m 39s\tremaining: 54.6s\n",
      "801:\tlearn: 0.2428560\ttotal: 3m 40s\tremaining: 54.3s\n",
      "802:\tlearn: 0.2424140\ttotal: 3m 40s\tremaining: 54.1s\n",
      "803:\tlearn: 0.2420985\ttotal: 3m 40s\tremaining: 53.8s\n",
      "804:\tlearn: 0.2418091\ttotal: 3m 40s\tremaining: 53.5s\n",
      "805:\tlearn: 0.2414500\ttotal: 3m 41s\tremaining: 53.2s\n",
      "806:\tlearn: 0.2410849\ttotal: 3m 41s\tremaining: 53s\n",
      "807:\tlearn: 0.2408484\ttotal: 3m 41s\tremaining: 52.7s\n",
      "808:\tlearn: 0.2405092\ttotal: 3m 42s\tremaining: 52.4s\n",
      "809:\tlearn: 0.2401455\ttotal: 3m 42s\tremaining: 52.2s\n",
      "810:\tlearn: 0.2398497\ttotal: 3m 42s\tremaining: 51.9s\n",
      "811:\tlearn: 0.2395604\ttotal: 3m 42s\tremaining: 51.6s\n",
      "812:\tlearn: 0.2392172\ttotal: 3m 43s\tremaining: 51.4s\n",
      "813:\tlearn: 0.2388806\ttotal: 3m 43s\tremaining: 51.1s\n",
      "814:\tlearn: 0.2386575\ttotal: 3m 43s\tremaining: 50.8s\n",
      "815:\tlearn: 0.2383039\ttotal: 3m 44s\tremaining: 50.5s\n",
      "816:\tlearn: 0.2379977\ttotal: 3m 44s\tremaining: 50.3s\n",
      "817:\tlearn: 0.2377380\ttotal: 3m 44s\tremaining: 50s\n",
      "818:\tlearn: 0.2375283\ttotal: 3m 44s\tremaining: 49.7s\n",
      "819:\tlearn: 0.2371081\ttotal: 3m 45s\tremaining: 49.4s\n",
      "820:\tlearn: 0.2367130\ttotal: 3m 45s\tremaining: 49.2s\n",
      "821:\tlearn: 0.2363872\ttotal: 3m 45s\tremaining: 48.9s\n",
      "822:\tlearn: 0.2361238\ttotal: 3m 46s\tremaining: 48.6s\n",
      "823:\tlearn: 0.2359293\ttotal: 3m 46s\tremaining: 48.3s\n",
      "824:\tlearn: 0.2355954\ttotal: 3m 46s\tremaining: 48.1s\n",
      "825:\tlearn: 0.2352220\ttotal: 3m 46s\tremaining: 47.8s\n",
      "826:\tlearn: 0.2348552\ttotal: 3m 47s\tremaining: 47.5s\n",
      "827:\tlearn: 0.2345692\ttotal: 3m 47s\tremaining: 47.2s\n",
      "828:\tlearn: 0.2342296\ttotal: 3m 47s\tremaining: 47s\n",
      "829:\tlearn: 0.2339551\ttotal: 3m 48s\tremaining: 46.7s\n",
      "830:\tlearn: 0.2336914\ttotal: 3m 48s\tremaining: 46.4s\n",
      "831:\tlearn: 0.2334591\ttotal: 3m 48s\tremaining: 46.2s\n",
      "832:\tlearn: 0.2332098\ttotal: 3m 48s\tremaining: 45.9s\n",
      "833:\tlearn: 0.2328549\ttotal: 3m 49s\tremaining: 45.6s\n",
      "834:\tlearn: 0.2325570\ttotal: 3m 49s\tremaining: 45.3s\n",
      "835:\tlearn: 0.2322465\ttotal: 3m 49s\tremaining: 45.1s\n",
      "836:\tlearn: 0.2318628\ttotal: 3m 50s\tremaining: 44.8s\n",
      "837:\tlearn: 0.2315436\ttotal: 3m 50s\tremaining: 44.5s\n",
      "838:\tlearn: 0.2312739\ttotal: 3m 50s\tremaining: 44.3s\n",
      "839:\tlearn: 0.2308950\ttotal: 3m 50s\tremaining: 44s\n",
      "840:\tlearn: 0.2305575\ttotal: 3m 51s\tremaining: 43.7s\n",
      "841:\tlearn: 0.2301548\ttotal: 3m 51s\tremaining: 43.4s\n",
      "842:\tlearn: 0.2298021\ttotal: 3m 51s\tremaining: 43.2s\n",
      "843:\tlearn: 0.2294792\ttotal: 3m 52s\tremaining: 42.9s\n",
      "844:\tlearn: 0.2291675\ttotal: 3m 52s\tremaining: 42.6s\n",
      "845:\tlearn: 0.2287917\ttotal: 3m 52s\tremaining: 42.4s\n",
      "846:\tlearn: 0.2284302\ttotal: 3m 52s\tremaining: 42.1s\n",
      "847:\tlearn: 0.2281073\ttotal: 3m 53s\tremaining: 41.8s\n",
      "848:\tlearn: 0.2277745\ttotal: 3m 53s\tremaining: 41.5s\n",
      "849:\tlearn: 0.2274535\ttotal: 3m 53s\tremaining: 41.2s\n",
      "850:\tlearn: 0.2271186\ttotal: 3m 54s\tremaining: 41s\n",
      "851:\tlearn: 0.2268394\ttotal: 3m 54s\tremaining: 40.7s\n",
      "852:\tlearn: 0.2265847\ttotal: 3m 54s\tremaining: 40.4s\n",
      "853:\tlearn: 0.2262008\ttotal: 3m 54s\tremaining: 40.1s\n",
      "854:\tlearn: 0.2258907\ttotal: 3m 55s\tremaining: 39.9s\n",
      "855:\tlearn: 0.2255459\ttotal: 3m 55s\tremaining: 39.6s\n",
      "856:\tlearn: 0.2252395\ttotal: 3m 55s\tremaining: 39.3s\n",
      "857:\tlearn: 0.2249622\ttotal: 3m 55s\tremaining: 39s\n",
      "858:\tlearn: 0.2246404\ttotal: 3m 56s\tremaining: 38.8s\n",
      "859:\tlearn: 0.2243580\ttotal: 3m 56s\tremaining: 38.5s\n",
      "860:\tlearn: 0.2240800\ttotal: 3m 56s\tremaining: 38.2s\n",
      "861:\tlearn: 0.2237688\ttotal: 3m 57s\tremaining: 37.9s\n",
      "862:\tlearn: 0.2234794\ttotal: 3m 57s\tremaining: 37.7s\n",
      "863:\tlearn: 0.2231796\ttotal: 3m 57s\tremaining: 37.4s\n",
      "864:\tlearn: 0.2228855\ttotal: 3m 57s\tremaining: 37.1s\n",
      "865:\tlearn: 0.2226246\ttotal: 3m 58s\tremaining: 36.8s\n",
      "866:\tlearn: 0.2223572\ttotal: 3m 58s\tremaining: 36.6s\n",
      "867:\tlearn: 0.2220630\ttotal: 3m 58s\tremaining: 36.3s\n",
      "868:\tlearn: 0.2217910\ttotal: 3m 58s\tremaining: 36s\n",
      "869:\tlearn: 0.2215916\ttotal: 3m 59s\tremaining: 35.7s\n",
      "870:\tlearn: 0.2212545\ttotal: 3m 59s\tremaining: 35.5s\n",
      "871:\tlearn: 0.2209387\ttotal: 3m 59s\tremaining: 35.2s\n",
      "872:\tlearn: 0.2206600\ttotal: 3m 59s\tremaining: 34.9s\n",
      "873:\tlearn: 0.2203595\ttotal: 4m\tremaining: 34.6s\n",
      "874:\tlearn: 0.2200325\ttotal: 4m\tremaining: 34.4s\n",
      "875:\tlearn: 0.2196586\ttotal: 4m\tremaining: 34.1s\n",
      "876:\tlearn: 0.2193558\ttotal: 4m 1s\tremaining: 33.8s\n",
      "877:\tlearn: 0.2190694\ttotal: 4m 1s\tremaining: 33.5s\n",
      "878:\tlearn: 0.2187551\ttotal: 4m 1s\tremaining: 33.3s\n",
      "879:\tlearn: 0.2184601\ttotal: 4m 1s\tremaining: 33s\n",
      "880:\tlearn: 0.2181225\ttotal: 4m 2s\tremaining: 32.7s\n",
      "881:\tlearn: 0.2179133\ttotal: 4m 2s\tremaining: 32.4s\n",
      "882:\tlearn: 0.2175642\ttotal: 4m 2s\tremaining: 32.2s\n",
      "883:\tlearn: 0.2172243\ttotal: 4m 3s\tremaining: 31.9s\n",
      "884:\tlearn: 0.2169136\ttotal: 4m 3s\tremaining: 31.6s\n",
      "885:\tlearn: 0.2166399\ttotal: 4m 3s\tremaining: 31.3s\n",
      "886:\tlearn: 0.2163208\ttotal: 4m 3s\tremaining: 31.1s\n",
      "887:\tlearn: 0.2160088\ttotal: 4m 4s\tremaining: 30.8s\n",
      "888:\tlearn: 0.2157836\ttotal: 4m 4s\tremaining: 30.5s\n",
      "889:\tlearn: 0.2155222\ttotal: 4m 4s\tremaining: 30.2s\n",
      "890:\tlearn: 0.2152143\ttotal: 4m 4s\tremaining: 30s\n",
      "891:\tlearn: 0.2149731\ttotal: 4m 5s\tremaining: 29.7s\n",
      "892:\tlearn: 0.2147187\ttotal: 4m 5s\tremaining: 29.4s\n",
      "893:\tlearn: 0.2144273\ttotal: 4m 5s\tremaining: 29.1s\n",
      "894:\tlearn: 0.2141024\ttotal: 4m 6s\tremaining: 28.9s\n",
      "895:\tlearn: 0.2138757\ttotal: 4m 6s\tremaining: 28.6s\n",
      "896:\tlearn: 0.2135629\ttotal: 4m 6s\tremaining: 28.3s\n",
      "897:\tlearn: 0.2132609\ttotal: 4m 6s\tremaining: 28s\n",
      "898:\tlearn: 0.2129765\ttotal: 4m 7s\tremaining: 27.8s\n",
      "899:\tlearn: 0.2126433\ttotal: 4m 7s\tremaining: 27.5s\n",
      "900:\tlearn: 0.2123745\ttotal: 4m 7s\tremaining: 27.2s\n",
      "901:\tlearn: 0.2121199\ttotal: 4m 7s\tremaining: 26.9s\n",
      "902:\tlearn: 0.2118927\ttotal: 4m 8s\tremaining: 26.7s\n",
      "903:\tlearn: 0.2115225\ttotal: 4m 8s\tremaining: 26.4s\n",
      "904:\tlearn: 0.2112271\ttotal: 4m 8s\tremaining: 26.1s\n",
      "905:\tlearn: 0.2109642\ttotal: 4m 9s\tremaining: 25.9s\n",
      "906:\tlearn: 0.2106918\ttotal: 4m 9s\tremaining: 25.6s\n",
      "907:\tlearn: 0.2103177\ttotal: 4m 9s\tremaining: 25.3s\n",
      "908:\tlearn: 0.2099940\ttotal: 4m 9s\tremaining: 25s\n",
      "909:\tlearn: 0.2096773\ttotal: 4m 10s\tremaining: 24.8s\n",
      "910:\tlearn: 0.2093982\ttotal: 4m 10s\tremaining: 24.5s\n",
      "911:\tlearn: 0.2091351\ttotal: 4m 10s\tremaining: 24.2s\n",
      "912:\tlearn: 0.2088908\ttotal: 4m 11s\tremaining: 23.9s\n",
      "913:\tlearn: 0.2085577\ttotal: 4m 11s\tremaining: 23.7s\n",
      "914:\tlearn: 0.2082762\ttotal: 4m 11s\tremaining: 23.4s\n",
      "915:\tlearn: 0.2080022\ttotal: 4m 12s\tremaining: 23.1s\n",
      "916:\tlearn: 0.2077132\ttotal: 4m 12s\tremaining: 22.8s\n",
      "917:\tlearn: 0.2074325\ttotal: 4m 12s\tremaining: 22.6s\n",
      "918:\tlearn: 0.2071604\ttotal: 4m 12s\tremaining: 22.3s\n",
      "919:\tlearn: 0.2068635\ttotal: 4m 13s\tremaining: 22s\n",
      "920:\tlearn: 0.2066691\ttotal: 4m 13s\tremaining: 21.7s\n",
      "921:\tlearn: 0.2064488\ttotal: 4m 13s\tremaining: 21.5s\n",
      "922:\tlearn: 0.2061908\ttotal: 4m 13s\tremaining: 21.2s\n",
      "923:\tlearn: 0.2059025\ttotal: 4m 14s\tremaining: 20.9s\n",
      "924:\tlearn: 0.2056169\ttotal: 4m 14s\tremaining: 20.6s\n",
      "925:\tlearn: 0.2052906\ttotal: 4m 14s\tremaining: 20.4s\n",
      "926:\tlearn: 0.2049491\ttotal: 4m 15s\tremaining: 20.1s\n",
      "927:\tlearn: 0.2046817\ttotal: 4m 15s\tremaining: 19.8s\n",
      "928:\tlearn: 0.2044419\ttotal: 4m 15s\tremaining: 19.5s\n",
      "929:\tlearn: 0.2041817\ttotal: 4m 15s\tremaining: 19.3s\n",
      "930:\tlearn: 0.2038706\ttotal: 4m 16s\tremaining: 19s\n",
      "931:\tlearn: 0.2035851\ttotal: 4m 16s\tremaining: 18.7s\n",
      "932:\tlearn: 0.2034143\ttotal: 4m 16s\tremaining: 18.4s\n",
      "933:\tlearn: 0.2031740\ttotal: 4m 17s\tremaining: 18.2s\n",
      "934:\tlearn: 0.2028951\ttotal: 4m 17s\tremaining: 17.9s\n",
      "935:\tlearn: 0.2026029\ttotal: 4m 17s\tremaining: 17.6s\n",
      "936:\tlearn: 0.2023616\ttotal: 4m 18s\tremaining: 17.3s\n",
      "937:\tlearn: 0.2021647\ttotal: 4m 18s\tremaining: 17.1s\n",
      "938:\tlearn: 0.2019137\ttotal: 4m 18s\tremaining: 16.8s\n",
      "939:\tlearn: 0.2016683\ttotal: 4m 18s\tremaining: 16.5s\n",
      "940:\tlearn: 0.2013090\ttotal: 4m 19s\tremaining: 16.2s\n",
      "941:\tlearn: 0.2010518\ttotal: 4m 19s\tremaining: 16s\n",
      "942:\tlearn: 0.2008029\ttotal: 4m 19s\tremaining: 15.7s\n",
      "943:\tlearn: 0.2005471\ttotal: 4m 19s\tremaining: 15.4s\n",
      "944:\tlearn: 0.2003492\ttotal: 4m 20s\tremaining: 15.1s\n",
      "945:\tlearn: 0.2000308\ttotal: 4m 20s\tremaining: 14.9s\n",
      "946:\tlearn: 0.1997593\ttotal: 4m 20s\tremaining: 14.6s\n",
      "947:\tlearn: 0.1995205\ttotal: 4m 21s\tremaining: 14.3s\n",
      "948:\tlearn: 0.1992728\ttotal: 4m 21s\tremaining: 14s\n",
      "949:\tlearn: 0.1990280\ttotal: 4m 21s\tremaining: 13.8s\n",
      "950:\tlearn: 0.1987703\ttotal: 4m 21s\tremaining: 13.5s\n",
      "951:\tlearn: 0.1985187\ttotal: 4m 22s\tremaining: 13.2s\n",
      "952:\tlearn: 0.1982448\ttotal: 4m 22s\tremaining: 12.9s\n",
      "953:\tlearn: 0.1979666\ttotal: 4m 22s\tremaining: 12.7s\n",
      "954:\tlearn: 0.1976630\ttotal: 4m 22s\tremaining: 12.4s\n",
      "955:\tlearn: 0.1973788\ttotal: 4m 23s\tremaining: 12.1s\n",
      "956:\tlearn: 0.1970904\ttotal: 4m 23s\tremaining: 11.8s\n",
      "957:\tlearn: 0.1968658\ttotal: 4m 23s\tremaining: 11.6s\n",
      "958:\tlearn: 0.1965268\ttotal: 4m 24s\tremaining: 11.3s\n",
      "959:\tlearn: 0.1962614\ttotal: 4m 24s\tremaining: 11s\n",
      "960:\tlearn: 0.1959160\ttotal: 4m 24s\tremaining: 10.7s\n",
      "961:\tlearn: 0.1956459\ttotal: 4m 24s\tremaining: 10.5s\n",
      "962:\tlearn: 0.1953426\ttotal: 4m 25s\tremaining: 10.2s\n",
      "963:\tlearn: 0.1950602\ttotal: 4m 25s\tremaining: 9.91s\n",
      "964:\tlearn: 0.1947701\ttotal: 4m 25s\tremaining: 9.64s\n",
      "965:\tlearn: 0.1944605\ttotal: 4m 26s\tremaining: 9.36s\n",
      "966:\tlearn: 0.1942594\ttotal: 4m 26s\tremaining: 9.09s\n",
      "967:\tlearn: 0.1940309\ttotal: 4m 26s\tremaining: 8.81s\n",
      "968:\tlearn: 0.1937544\ttotal: 4m 26s\tremaining: 8.54s\n",
      "969:\tlearn: 0.1934323\ttotal: 4m 27s\tremaining: 8.26s\n",
      "970:\tlearn: 0.1932068\ttotal: 4m 27s\tremaining: 7.99s\n",
      "971:\tlearn: 0.1929463\ttotal: 4m 27s\tremaining: 7.71s\n",
      "972:\tlearn: 0.1927699\ttotal: 4m 28s\tremaining: 7.44s\n",
      "973:\tlearn: 0.1925138\ttotal: 4m 28s\tremaining: 7.16s\n",
      "974:\tlearn: 0.1922320\ttotal: 4m 28s\tremaining: 6.89s\n",
      "975:\tlearn: 0.1920086\ttotal: 4m 28s\tremaining: 6.61s\n",
      "976:\tlearn: 0.1917784\ttotal: 4m 29s\tremaining: 6.34s\n",
      "977:\tlearn: 0.1915326\ttotal: 4m 29s\tremaining: 6.06s\n",
      "978:\tlearn: 0.1914066\ttotal: 4m 29s\tremaining: 5.79s\n",
      "979:\tlearn: 0.1911606\ttotal: 4m 30s\tremaining: 5.51s\n",
      "980:\tlearn: 0.1908521\ttotal: 4m 30s\tremaining: 5.24s\n",
      "981:\tlearn: 0.1906149\ttotal: 4m 30s\tremaining: 4.96s\n",
      "982:\tlearn: 0.1903595\ttotal: 4m 31s\tremaining: 4.69s\n",
      "983:\tlearn: 0.1901183\ttotal: 4m 31s\tremaining: 4.41s\n",
      "984:\tlearn: 0.1898213\ttotal: 4m 31s\tremaining: 4.14s\n",
      "985:\tlearn: 0.1895938\ttotal: 4m 31s\tremaining: 3.86s\n",
      "986:\tlearn: 0.1893269\ttotal: 4m 32s\tremaining: 3.58s\n",
      "987:\tlearn: 0.1890650\ttotal: 4m 32s\tremaining: 3.31s\n",
      "988:\tlearn: 0.1888430\ttotal: 4m 32s\tremaining: 3.03s\n",
      "989:\tlearn: 0.1886763\ttotal: 4m 33s\tremaining: 2.76s\n",
      "990:\tlearn: 0.1885122\ttotal: 4m 33s\tremaining: 2.48s\n",
      "991:\tlearn: 0.1882721\ttotal: 4m 33s\tremaining: 2.21s\n",
      "992:\tlearn: 0.1880288\ttotal: 4m 33s\tremaining: 1.93s\n",
      "993:\tlearn: 0.1878011\ttotal: 4m 34s\tremaining: 1.65s\n",
      "994:\tlearn: 0.1875350\ttotal: 4m 34s\tremaining: 1.38s\n",
      "995:\tlearn: 0.1873145\ttotal: 4m 34s\tremaining: 1.1s\n",
      "996:\tlearn: 0.1870654\ttotal: 4m 34s\tremaining: 827ms\n",
      "997:\tlearn: 0.1868044\ttotal: 4m 35s\tremaining: 552ms\n",
      "998:\tlearn: 0.1865797\ttotal: 4m 35s\tremaining: 276ms\n",
      "999:\tlearn: 0.1863623\ttotal: 4m 35s\tremaining: 0us\n"
     ]
    },
    {
     "name": "stderr",
     "output_type": "stream",
     "text": [
      "D:\\Anaconda\\lib\\site-packages\\sklearn\\neighbors\\_classification.py:228: FutureWarning: Unlike other reduction functions (e.g. `skew`, `kurtosis`), the default behavior of `mode` typically preserves the axis it acts along. In SciPy 1.11.0, this behavior will change: the default value of `keepdims` will become False, the `axis` over which the statistic is taken will be eliminated, and the value None will no longer be accepted. Set `keepdims` to True or False to avoid this warning.\n",
      "  mode, _ = stats.mode(_y[neigh_ind, k], axis=1)\n"
     ]
    },
    {
     "name": "stdout",
     "output_type": "stream",
     "text": [
      "Model: Random Forest\n",
      "Accuracy: 0.8700\n",
      "Precision: 0.8700\n",
      "Recall: 0.8700\n",
      "F1-Score: 0.8700\n",
      "\n",
      "Model: Logistic Regression\n",
      "Accuracy: 0.8700\n",
      "Precision: 0.8558\n",
      "Recall: 0.8900\n",
      "F1-Score: 0.8725\n",
      "\n",
      "Model: SVM\n",
      "Accuracy: 0.8600\n",
      "Precision: 0.8396\n",
      "Recall: 0.8900\n",
      "F1-Score: 0.8641\n",
      "\n",
      "Model: K-Nearest Neighbors\n",
      "Accuracy: 0.6850\n",
      "Precision: 0.6581\n",
      "Recall: 0.7700\n",
      "F1-Score: 0.7097\n",
      "\n",
      "Model: Naive Bayes\n",
      "Accuracy: 0.7200\n",
      "Precision: 0.7340\n",
      "Recall: 0.6900\n",
      "F1-Score: 0.7113\n",
      "\n",
      "Model: Decision Tree\n",
      "Accuracy: 0.6200\n",
      "Precision: 0.6111\n",
      "Recall: 0.6600\n",
      "F1-Score: 0.6346\n",
      "\n",
      "Model: CatBoost\n",
      "Accuracy: 0.8250\n",
      "Precision: 0.7826\n",
      "Recall: 0.9000\n",
      "F1-Score: 0.8372\n",
      "\n"
     ]
    }
   ],
   "source": [
    "from sklearn.metrics import accuracy_score, precision_score, recall_score, f1_score\n",
    "from sklearn.ensemble import RandomForestClassifier\n",
    "from sklearn.linear_model import LogisticRegression\n",
    "from sklearn.svm import SVC\n",
    "from sklearn.neighbors import KNeighborsClassifier\n",
    "from sklearn.naive_bayes import GaussianNB\n",
    "from sklearn.tree import DecisionTreeClassifier\n",
    "import catboost\n",
    "# training with CatBoostClassifier\n",
    "from catboost import CatBoostClassifier\n",
    "models = {\n",
    "    'Random Forest': RandomForestClassifier(),\n",
    "    'Logistic Regression': LogisticRegression(),\n",
    "    'SVM': SVC(),\n",
    "    'K-Nearest Neighbors': KNeighborsClassifier(),\n",
    "    'Naive Bayes': GaussianNB(),\n",
    "    'Decision Tree': DecisionTreeClassifier(),\n",
    "    'CatBoost': CatBoostClassifier(verbose=0)\n",
    "}\n",
    "\n",
    "trained_models = {}\n",
    "for model_name, model in models.items():\n",
    "    model.fit(X_train.toarray(), y_train)\n",
    "    trained_models[model_name] = model\n",
    "\n",
    "# Step 3: Make predictions\n",
    "predictions = {}\n",
    "for model_name, model in trained_models.items():\n",
    "    y_pred = model.predict(X_test.toarray())\n",
    "    predictions[model_name] = y_pred\n",
    "\n",
    "# Step 4: Evaluate the models\n",
    "classification_scores = {}\n",
    "for model_name, y_pred in predictions.items():\n",
    "    accuracy = accuracy_score(y_test, y_pred)\n",
    "    precision = precision_score(y_test, y_pred)\n",
    "    recall = recall_score(y_test, y_pred)\n",
    "    f1 = f1_score(y_test, y_pred)\n",
    "    \n",
    "    classification_scores[model_name] = {\n",
    "        'Accuracy': accuracy,\n",
    "        'Precision': precision,\n",
    "        'Recall': recall,\n",
    "        'F1-Score': f1\n",
    "    }\n",
    "\n",
    "# Print classification scores for each model\n",
    "for model_name, scores in classification_scores.items():\n",
    "    print(f\"Model: {model_name}\")\n",
    "    for metric, score in scores.items():\n",
    "        print(f\"{metric}: {score:.4f}\")\n",
    "    print()\n"
   ]
  },
  {
   "cell_type": "code",
   "execution_count": 53,
   "id": "689de326",
   "metadata": {},
   "outputs": [
    {
     "data": {
      "text/plain": [
       "0.86"
      ]
     },
     "execution_count": 53,
     "metadata": {},
     "output_type": "execute_result"
    }
   ],
   "source": [
    "# training with Support Vector Classifier\n",
    "from sklearn.svm import SVC\n",
    "svc = SVC()\n",
    "model = svc.fit(X_train, y_train)\n",
    "from sklearn.metrics import accuracy_score\n",
    "#X_val_pca = clf.transform(X_val_tfidf)\n",
    "y_pred = model.predict(X_test.toarray())\n",
    "accuracy_score(y_pred, y_test)"
   ]
  },
  {
   "cell_type": "code",
   "execution_count": 243,
   "id": "f1bcc6cb",
   "metadata": {},
   "outputs": [
    {
     "data": {
      "text/plain": [
       "0.805"
      ]
     },
     "execution_count": 243,
     "metadata": {},
     "output_type": "execute_result"
    }
   ],
   "source": [
    "# training with RandomForestClassifier\n",
    "from sklearn.ensemble import RandomForestClassifier\n",
    "rfc = RandomForestClassifier()\n",
    "model = rfc.fit(X_train, y_train)\n",
    "from sklearn.metrics import accuracy_score\n",
    "#X_val_pca = clf.transform(X_val_tfidf)\n",
    "y_pred = model.predict(X_test.toarray())\n",
    "accuracy_score(y_pred, y_test)"
   ]
  },
  {
   "cell_type": "code",
   "execution_count": 245,
   "id": "59577d54",
   "metadata": {},
   "outputs": [
    {
     "data": {
      "text/plain": [
       "0.67"
      ]
     },
     "execution_count": 245,
     "metadata": {},
     "output_type": "execute_result"
    }
   ],
   "source": [
    "# training with DecisionTreeClassifier\n",
    "from sklearn.tree import DecisionTreeClassifier\n",
    "dtc = DecisionTreeClassifier()\n",
    "model = dtc.fit(X_train, y_train)\n",
    "from sklearn.metrics import accuracy_score\n",
    "#X_val_pca = clf.transform(X_val_tfidf)\n",
    "y_pred = model.predict(X_test.toarray())\n",
    "accuracy_score(y_pred, y_test)"
   ]
  },
  {
   "cell_type": "code",
   "execution_count": 420,
   "id": "901e7d29",
   "metadata": {},
   "outputs": [
    {
     "data": {
      "text/plain": [
       "0.825"
      ]
     },
     "execution_count": 420,
     "metadata": {},
     "output_type": "execute_result"
    }
   ],
   "source": [
    "from sklearn.naive_bayes import GaussianNB  \n",
    "from sklearn.naive_bayes import MultinomialNB  \n",
    "from sklearn.naive_bayes import BernoulliNB\n",
    "# training with Naive Bayes\n",
    "mulnb = MultinomialNB()\n",
    "model = mulnb.fit(X_train.toarray(), y_train)\n",
    "from sklearn.metrics import accuracy_score\n",
    "#X_val_pca = clf.transform(X_val_tfidf)\n",
    "y_pred = model.predict(X_test.toarray())\n",
    "accuracy_score(y_pred, y_test)"
   ]
  },
  {
   "cell_type": "code",
   "execution_count": 55,
   "id": "a76d2f7b",
   "metadata": {},
   "outputs": [
    {
     "data": {
      "text/plain": [
       "0.825"
      ]
     },
     "execution_count": 55,
     "metadata": {},
     "output_type": "execute_result"
    }
   ],
   "source": [
    "import catboost\n",
    "# training with CatBoostClassifier\n",
    "from catboost import CatBoostClassifier\n",
    "catc = CatBoostClassifier(verbose=0)\n",
    "model = catc.fit(X_train, y_train)\n",
    "from sklearn.metrics import accuracy_score\n",
    "#X_val_pca = clf.transform(X_val_tfidf)\n",
    "y_pred = model.predict(X_test.toarray())\n",
    "accuracy_score(y_pred, y_test)"
   ]
  },
  {
   "cell_type": "code",
   "execution_count": null,
   "id": "28598793",
   "metadata": {},
   "outputs": [],
   "source": [
    "# Attempt at using Word2Vec (failed)"
   ]
  },
  {
   "cell_type": "code",
   "execution_count": 208,
   "id": "801e6f06",
   "metadata": {},
   "outputs": [
    {
     "name": "stdout",
     "output_type": "stream",
     "text": [
      "Vector representation of 'document':\n",
      "[-2.7164922  -0.77762073  1.6346495   0.6768557   2.2300434  -0.83758444\n",
      "  1.8690907   1.0641067  -2.7853336  -0.2433745 ]\n"
     ]
    }
   ],
   "source": [
    "from gensim.models import Word2Vec\n",
    "from nltk.tokenize import word_tokenize\n",
    "\n",
    "sentences = list_sentences.copy()\n",
    "\n",
    "tokenized_sentences = [word_tokenize(sentence.lower()) for sentence in sentences]\n",
    "\n",
    "model = Word2Vec(tokenized_sentences, vector_size=10, window=5, min_count=1, sg=0)\n",
    "\n",
    "vector = model.wv['boy']"
   ]
  },
  {
   "cell_type": "code",
   "execution_count": 234,
   "id": "347a0639",
   "metadata": {},
   "outputs": [
    {
     "ename": "TypeError",
     "evalue": "'KeyedVectors' object is not callable",
     "output_type": "error",
     "traceback": [
      "\u001b[1;31m---------------------------------------------------------------------------\u001b[0m",
      "\u001b[1;31mTypeError\u001b[0m                                 Traceback (most recent call last)",
      "\u001b[1;32m~\\AppData\\Local\\Temp\\ipykernel_24068\\2778706126.py\u001b[0m in \u001b[0;36m<module>\u001b[1;34m\u001b[0m\n\u001b[0;32m      5\u001b[0m     \u001b[1;32mfor\u001b[0m \u001b[0mword\u001b[0m \u001b[1;32min\u001b[0m \u001b[0msent\u001b[0m\u001b[1;33m:\u001b[0m\u001b[1;33m\u001b[0m\u001b[1;33m\u001b[0m\u001b[0m\n\u001b[0;32m      6\u001b[0m         \u001b[1;32mif\u001b[0m\u001b[1;33m(\u001b[0m\u001b[0mlen\u001b[0m\u001b[1;33m(\u001b[0m\u001b[0mword\u001b[0m\u001b[1;33m)\u001b[0m\u001b[1;33m!=\u001b[0m\u001b[1;36m1\u001b[0m\u001b[1;33m)\u001b[0m\u001b[1;33m:\u001b[0m\u001b[1;33m\u001b[0m\u001b[1;33m\u001b[0m\u001b[0m\n\u001b[1;32m----> 7\u001b[1;33m             \u001b[0mlist1\u001b[0m\u001b[1;33m.\u001b[0m\u001b[0mappend\u001b[0m\u001b[1;33m(\u001b[0m\u001b[0mmodel\u001b[0m\u001b[1;33m.\u001b[0m\u001b[0mwv\u001b[0m\u001b[1;33m(\u001b[0m\u001b[0mword\u001b[0m\u001b[1;33m)\u001b[0m\u001b[1;33m)\u001b[0m\u001b[1;33m\u001b[0m\u001b[1;33m\u001b[0m\u001b[0m\n\u001b[0m\u001b[0;32m      8\u001b[0m     \u001b[0mX\u001b[0m\u001b[1;33m.\u001b[0m\u001b[0mappend\u001b[0m\u001b[1;33m(\u001b[0m\u001b[0mlist1\u001b[0m\u001b[1;33m)\u001b[0m\u001b[1;33m\u001b[0m\u001b[1;33m\u001b[0m\u001b[0m\n",
      "\u001b[1;31mTypeError\u001b[0m: 'KeyedVectors' object is not callable"
     ]
    }
   ],
   "source": [
    "X=[]\n",
    "for sentence in sentences:\n",
    "    sent = sentence.split(' ')\n",
    "    list1 = []\n",
    "    for word in sent:\n",
    "        if(len(word)!=1):\n",
    "            list1.append(model.wv(word))\n",
    "    X.append(list1)"
   ]
  },
  {
   "cell_type": "code",
   "execution_count": null,
   "id": "9ec2fb00",
   "metadata": {},
   "outputs": [],
   "source": []
  },
  {
   "cell_type": "code",
   "execution_count": null,
   "id": "f1bb68ab",
   "metadata": {},
   "outputs": [],
   "source": []
  },
  {
   "cell_type": "code",
   "execution_count": null,
   "id": "bf5d6f5b",
   "metadata": {},
   "outputs": [],
   "source": []
  },
  {
   "cell_type": "code",
   "execution_count": null,
   "id": "af26147e",
   "metadata": {},
   "outputs": [],
   "source": []
  },
  {
   "cell_type": "code",
   "execution_count": null,
   "id": "72c5d1c6",
   "metadata": {},
   "outputs": [],
   "source": []
  },
  {
   "cell_type": "code",
   "execution_count": null,
   "id": "437df97c",
   "metadata": {},
   "outputs": [],
   "source": []
  },
  {
   "cell_type": "markdown",
   "id": "2a930b5d",
   "metadata": {},
   "source": [
    "# POS tagging in Sentiment Classifier"
   ]
  },
  {
   "cell_type": "code",
   "execution_count": 116,
   "id": "eed134c6",
   "metadata": {},
   "outputs": [],
   "source": [
    "import random\n",
    "\n",
    "# Initialize an empty list to store the corpus\n",
    "corpus = []\n",
    "\n",
    "# Assuming you have two lists: positive_sentences and negative_sentences\n",
    "# Add positive sentences to the corpus with a label of 1 (indicating positive sentiment)\n",
    "for sentence in positive_sentences:\n",
    "    corpus.append(tuple([sentence, 1]))\n",
    "\n",
    "# Add negative sentences to the corpus with a label of 0 (indicating negative sentiment)\n",
    "for sentence in negative_sentences:\n",
    "    corpus.append(tuple([sentence, 0]))\n",
    "\n",
    "# Shuffle the corpus to randomize the order of sentences\n",
    "random.shuffle(corpus)\n",
    "\n",
    "# The 'corpus' now contains sentence-label pairs in the form (sentence, review)\n"
   ]
  },
  {
   "cell_type": "code",
   "execution_count": 117,
   "id": "7e3114e4",
   "metadata": {},
   "outputs": [
    {
     "name": "stderr",
     "output_type": "stream",
     "text": [
      "[nltk_data] Downloading package stopwords to\n",
      "[nltk_data]     C:\\Users\\rouna\\AppData\\Roaming\\nltk_data...\n",
      "[nltk_data]   Package stopwords is already up-to-date!\n",
      "[nltk_data] Downloading package punkt to\n",
      "[nltk_data]     C:\\Users\\rouna\\AppData\\Roaming\\nltk_data...\n",
      "[nltk_data]   Package punkt is already up-to-date!\n",
      "[nltk_data] Downloading package wordnet to\n",
      "[nltk_data]     C:\\Users\\rouna\\AppData\\Roaming\\nltk_data...\n",
      "[nltk_data]   Package wordnet is already up-to-date!\n"
     ]
    }
   ],
   "source": [
    "# Import necessary libraries and download required resources\n",
    "import nltk\n",
    "nltk.download('stopwords')\n",
    "nltk.download('punkt')\n",
    "nltk.download('wordnet')\n",
    "from nltk.corpus import stopwords\n",
    "from stop_words import get_stop_words\n",
    "\n",
    "from nltk.stem import PorterStemmer\n",
    "from nltk.tokenize import word_tokenize\n",
    "\n",
    "# Sample sentence\n",
    "corpus_new = []\n",
    "\n",
    "# Preprocessing step 1: Remove stopwords\n",
    "for sentence, val in corpus:\n",
    "    # Tokenize the sentence\n",
    "    words = word_tokenize(sentence)\n",
    "\n",
    "    # Get the list of English stopwords\n",
    "    stop_words = list(get_stop_words('en'))         # About 900 stopwords\n",
    "    nltk_words = list(stopwords.words('english'))   # About 150 stopwords\n",
    "    stop_words.extend(nltk_words)\n",
    "\n",
    "    # Filter out stopwords from the sentence\n",
    "    filtered_words = [word for word in words if word.lower() not in stop_words]\n",
    "    filtered_sentence = ' '.join(filtered_words)\n",
    "    corpus_new.append(tuple([filtered_sentence, val]))"
   ]
  },
  {
   "cell_type": "code",
   "execution_count": 118,
   "id": "383bb3e7",
   "metadata": {},
   "outputs": [
    {
     "data": {
      "text/plain": [
       "(\"days , witnessing deluge films based old , cult tv shows . times , fans shows shudder thinking hollywood hacks present memories past . , five six years ago , ' many movies trend ' look depressing . , people , like author review , grew watching flintstones , popular 1960s animated series `` modern stone age `` family , ' particularly worried word came live action remake . , producer behind project steven spielberg , anything else , least special effects good . plot revolves flintstones , family set fictious stone age `` town `` bedrock , whose members enjoy lifestyle 1950s middle class america . fred flinstone ( john goodman ) works quarry , one day helps best friend neighbour barney rubble ( rick moranis ) wife betty ( rosie ' donnell ) adopt baby . return favour , barney switches results aptitude test fred , , based , fred gets well - paid job management . , course , sham - corrupt official cliff vandercave ( kyle maclachlan ) sultry secretary sharon stone ( halle berry ) need scapegoat embezzlement scheme . meantime , fred ' wife wilma ( elizabeth perkins ) must face mother ( elizabeth taylor ) ' stand fred . superficial level , flintstones excellent job bringing animated series life . computer effects flawless , costumes , settings details authentic fans show . unfortunately , problems film start inadequate casting - rick moranis thin role barney , cartoon betty used much skinnier rosie ' donnell . greatest problem plot , precise , lack plot . thirty six screenwriters made sure plot film lame , original characters one - dimensional , many elements story , like embezzlement inter - office politics , totally incomprehensible little children , main targeted audience film . result almost unwatchable mess , occasionally saved mostly excellent acting ( elizabeth perkins right mark wilma ) one classic example mortal hollywood disease known `` high concept `` . great hype , movie quickly sank oblivion fans show returned animated version . , film ' bad , hard core fans nostalgics find guilty pleasure .\",\n",
       " 0)"
      ]
     },
     "execution_count": 118,
     "metadata": {},
     "output_type": "execute_result"
    }
   ],
   "source": [
    "corpus_new[0]"
   ]
  },
  {
   "cell_type": "code",
   "execution_count": null,
   "id": "a67fcb53",
   "metadata": {},
   "outputs": [],
   "source": []
  },
  {
   "cell_type": "code",
   "execution_count": null,
   "id": "fcee379b",
   "metadata": {},
   "outputs": [
    {
     "name": "stderr",
     "output_type": "stream",
     "text": [
      "[nltk_data] Downloading package punkt to\n",
      "[nltk_data]     C:\\Users\\rouna\\AppData\\Roaming\\nltk_data...\n",
      "[nltk_data]   Package punkt is already up-to-date!\n",
      "[nltk_data] Downloading package averaged_perceptron_tagger to\n",
      "[nltk_data]     C:\\Users\\rouna\\AppData\\Roaming\\nltk_data...\n",
      "[nltk_data]   Package averaged_perceptron_tagger is already up-to-\n",
      "[nltk_data]       date!\n"
     ]
    },
    {
     "name": "stdout",
     "output_type": "stream",
     "text": [
      "0\n",
      "100\n",
      "200\n",
      "300\n"
     ]
    }
   ],
   "source": [
    "import nltk\n",
    "nltk.download('punkt')\n",
    "nltk.download('averaged_perceptron_tagger')\n",
    "#tags_to_eliminate = ['DT', 'IN', 'CC', 'PRP', '.', ',', ':', 'RP', 'UH', 'CD']\n",
    "pos_tags_to_keep = ['NN', 'NNS', 'VB', 'VBD', 'VBG', 'VBN', 'VBP', 'VBZ', 'JJ', 'JJR', 'JJS', 'RB', 'RBR', 'RBS']\n",
    "from nltk import word_tokenize, pos_tag\n",
    "corpus_pos = []\n",
    "j=0\n",
    "for sentence, val in corpus_new: # removing any word other than Noun, Verb, adverb and adjective since these are the most important     \n",
    "    if(j%100==0):\n",
    "        print(j)\n",
    "    j+=1\n",
    "    new_sent = []\n",
    "    path = pos_tag(word_tokenize(sentence))\n",
    "    for word, element in path:\n",
    "        if(element in pos_tags_to_keep):\n",
    "            new_sent.append(word)\n",
    "    new_sent = ' '.join(new_sent)\n",
    "    corpus_pos.append(tuple([new_sent, val]))"
   ]
  },
  {
   "cell_type": "code",
   "execution_count": 107,
   "id": "871fe98f",
   "metadata": {},
   "outputs": [],
   "source": [
    "# Initialize a new corpus for stemmed words\n",
    "new_corpus = []\n",
    "\n",
    "# Preprocessing step 2: Stemming\n",
    "for sentence, val in corpus_pos:\n",
    "    #print(sentence)\n",
    "    # Tokenize the sentence\n",
    "    words = word_tokenize(sentence)\n",
    "    \n",
    "    # Create a Porter stemmer instance\n",
    "    stemmer = PorterStemmer()\n",
    "    \n",
    "    # Apply stemming to each word in the sentence\n",
    "    stemmed_words = [stemmer.stem(word) for word in words]\n",
    "    \n",
    "    # Join the stemmed words back into a sentence\n",
    "    stemmed_sentence = ' '.join(stemmed_words)\n",
    "    \n",
    "    # Append the stemmed sentence and its label to the new corpus\n",
    "    new_corpus.append(tuple([stemmed_sentence, val]))"
   ]
  },
  {
   "cell_type": "code",
   "execution_count": 108,
   "id": "5714e562",
   "metadata": {},
   "outputs": [],
   "source": [
    "# THEN USING THE SAME CLASSIFIER AS BEFORE"
   ]
  },
  {
   "cell_type": "code",
   "execution_count": 109,
   "id": "2b7e0314",
   "metadata": {},
   "outputs": [],
   "source": [
    "list_sentences = [sentence for sentence,_ in new_corpus]"
   ]
  },
  {
   "cell_type": "code",
   "execution_count": 110,
   "id": "742e2c6a",
   "metadata": {},
   "outputs": [],
   "source": [
    "# Import the necessary library\n",
    "from sklearn.feature_extraction.text import TfidfVectorizer\n",
    "\n",
    "# Assuming 'list_sentences' contains your list of sentences and 'new_corpus' contains your labeled data\n",
    "\n",
    "# Create a copy of the 'list_sentences' (assuming it's a list of sentences)\n",
    "sentences = list_sentences.copy()\n",
    "\n",
    "# Initialize a TfidfVectorizer with a maximum of 2000 features (words or terms)\n",
    "tfidf_vectorizer = TfidfVectorizer(max_features=5000)\n",
    "\n",
    "# Fit and transform the sentences using the TfidfVectorizer\n",
    "X = tfidf_vectorizer.fit_transform(sentences)\n",
    "\n",
    "# Assuming 'new_corpus' is a list of tuples where the second element in each tuple is the label (1 or 0)\n",
    "# Extract the labels (y) from 'new_corpus'\n",
    "y = [val for _, val in new_corpus]\n",
    "\n",
    "# The 'X' variable now contains the TF-IDF vectorized representation of your sentences,\n",
    "# and 'y' contains the corresponding labels.\n"
   ]
  },
  {
   "cell_type": "code",
   "execution_count": 111,
   "id": "5b621478",
   "metadata": {},
   "outputs": [],
   "source": [
    "# train-test splitting\n",
    "X_train = X[:1800]\n",
    "y_train = y[:1800]\n",
    "X_test = X[1800:]\n",
    "y_test = y[1800:]"
   ]
  },
  {
   "cell_type": "code",
   "execution_count": 112,
   "id": "42e6fffa",
   "metadata": {},
   "outputs": [
    {
     "data": {
      "text/plain": [
       "0.855"
      ]
     },
     "execution_count": 112,
     "metadata": {},
     "output_type": "execute_result"
    }
   ],
   "source": [
    "# training with Support Vector Classifier\n",
    "from sklearn.svm import SVC\n",
    "svc = SVC()\n",
    "model = svc.fit(X_train, y_train)\n",
    "from sklearn.metrics import accuracy_score\n",
    "#X_val_pca = clf.transform(X_val_tfidf)\n",
    "y_pred = model.predict(X_test.toarray())\n",
    "accuracy_score(y_pred, y_test)"
   ]
  },
  {
   "cell_type": "code",
   "execution_count": 113,
   "id": "c93e2bc2",
   "metadata": {},
   "outputs": [
    {
     "ename": "KeyboardInterrupt",
     "evalue": "",
     "output_type": "error",
     "traceback": [
      "\u001b[1;31m---------------------------------------------------------------------------\u001b[0m",
      "\u001b[1;31mKeyboardInterrupt\u001b[0m                         Traceback (most recent call last)",
      "\u001b[1;32m~\\AppData\\Local\\Temp\\ipykernel_31396\\2808364243.py\u001b[0m in \u001b[0;36m<module>\u001b[1;34m\u001b[0m\n\u001b[0;32m     21\u001b[0m \u001b[0mtrained_models\u001b[0m \u001b[1;33m=\u001b[0m \u001b[1;33m{\u001b[0m\u001b[1;33m}\u001b[0m\u001b[1;33m\u001b[0m\u001b[1;33m\u001b[0m\u001b[0m\n\u001b[0;32m     22\u001b[0m \u001b[1;32mfor\u001b[0m \u001b[0mmodel_name\u001b[0m\u001b[1;33m,\u001b[0m \u001b[0mmodel\u001b[0m \u001b[1;32min\u001b[0m \u001b[0mmodels\u001b[0m\u001b[1;33m.\u001b[0m\u001b[0mitems\u001b[0m\u001b[1;33m(\u001b[0m\u001b[1;33m)\u001b[0m\u001b[1;33m:\u001b[0m\u001b[1;33m\u001b[0m\u001b[1;33m\u001b[0m\u001b[0m\n\u001b[1;32m---> 23\u001b[1;33m     \u001b[0mmodel\u001b[0m\u001b[1;33m.\u001b[0m\u001b[0mfit\u001b[0m\u001b[1;33m(\u001b[0m\u001b[0mX_train\u001b[0m\u001b[1;33m.\u001b[0m\u001b[0mtoarray\u001b[0m\u001b[1;33m(\u001b[0m\u001b[1;33m)\u001b[0m\u001b[1;33m,\u001b[0m \u001b[0my_train\u001b[0m\u001b[1;33m)\u001b[0m\u001b[1;33m\u001b[0m\u001b[1;33m\u001b[0m\u001b[0m\n\u001b[0m\u001b[0;32m     24\u001b[0m     \u001b[0mtrained_models\u001b[0m\u001b[1;33m[\u001b[0m\u001b[0mmodel_name\u001b[0m\u001b[1;33m]\u001b[0m \u001b[1;33m=\u001b[0m \u001b[0mmodel\u001b[0m\u001b[1;33m\u001b[0m\u001b[1;33m\u001b[0m\u001b[0m\n\u001b[0;32m     25\u001b[0m \u001b[1;33m\u001b[0m\u001b[0m\n",
      "\u001b[1;32mD:\\Anaconda\\lib\\site-packages\\sklearn\\svm\\_base.py\u001b[0m in \u001b[0;36mfit\u001b[1;34m(self, X, y, sample_weight)\u001b[0m\n\u001b[0;32m    253\u001b[0m \u001b[1;33m\u001b[0m\u001b[0m\n\u001b[0;32m    254\u001b[0m         \u001b[0mseed\u001b[0m \u001b[1;33m=\u001b[0m \u001b[0mrnd\u001b[0m\u001b[1;33m.\u001b[0m\u001b[0mrandint\u001b[0m\u001b[1;33m(\u001b[0m\u001b[0mnp\u001b[0m\u001b[1;33m.\u001b[0m\u001b[0miinfo\u001b[0m\u001b[1;33m(\u001b[0m\u001b[1;34m\"i\"\u001b[0m\u001b[1;33m)\u001b[0m\u001b[1;33m.\u001b[0m\u001b[0mmax\u001b[0m\u001b[1;33m)\u001b[0m\u001b[1;33m\u001b[0m\u001b[1;33m\u001b[0m\u001b[0m\n\u001b[1;32m--> 255\u001b[1;33m         \u001b[0mfit\u001b[0m\u001b[1;33m(\u001b[0m\u001b[0mX\u001b[0m\u001b[1;33m,\u001b[0m \u001b[0my\u001b[0m\u001b[1;33m,\u001b[0m \u001b[0msample_weight\u001b[0m\u001b[1;33m,\u001b[0m \u001b[0msolver_type\u001b[0m\u001b[1;33m,\u001b[0m \u001b[0mkernel\u001b[0m\u001b[1;33m,\u001b[0m \u001b[0mrandom_seed\u001b[0m\u001b[1;33m=\u001b[0m\u001b[0mseed\u001b[0m\u001b[1;33m)\u001b[0m\u001b[1;33m\u001b[0m\u001b[1;33m\u001b[0m\u001b[0m\n\u001b[0m\u001b[0;32m    256\u001b[0m         \u001b[1;31m# see comment on the other call to np.iinfo in this file\u001b[0m\u001b[1;33m\u001b[0m\u001b[1;33m\u001b[0m\u001b[0m\n\u001b[0;32m    257\u001b[0m \u001b[1;33m\u001b[0m\u001b[0m\n",
      "\u001b[1;32mD:\\Anaconda\\lib\\site-packages\\sklearn\\svm\\_base.py\u001b[0m in \u001b[0;36m_dense_fit\u001b[1;34m(self, X, y, sample_weight, solver_type, kernel, random_seed)\u001b[0m\n\u001b[0;32m    313\u001b[0m             \u001b[0mself\u001b[0m\u001b[1;33m.\u001b[0m\u001b[0m_probB\u001b[0m\u001b[1;33m,\u001b[0m\u001b[1;33m\u001b[0m\u001b[1;33m\u001b[0m\u001b[0m\n\u001b[0;32m    314\u001b[0m             \u001b[0mself\u001b[0m\u001b[1;33m.\u001b[0m\u001b[0mfit_status_\u001b[0m\u001b[1;33m,\u001b[0m\u001b[1;33m\u001b[0m\u001b[1;33m\u001b[0m\u001b[0m\n\u001b[1;32m--> 315\u001b[1;33m         \u001b[1;33m)\u001b[0m \u001b[1;33m=\u001b[0m \u001b[0mlibsvm\u001b[0m\u001b[1;33m.\u001b[0m\u001b[0mfit\u001b[0m\u001b[1;33m(\u001b[0m\u001b[1;33m\u001b[0m\u001b[1;33m\u001b[0m\u001b[0m\n\u001b[0m\u001b[0;32m    316\u001b[0m             \u001b[0mX\u001b[0m\u001b[1;33m,\u001b[0m\u001b[1;33m\u001b[0m\u001b[1;33m\u001b[0m\u001b[0m\n\u001b[0;32m    317\u001b[0m             \u001b[0my\u001b[0m\u001b[1;33m,\u001b[0m\u001b[1;33m\u001b[0m\u001b[1;33m\u001b[0m\u001b[0m\n",
      "\u001b[1;31mKeyboardInterrupt\u001b[0m: "
     ]
    }
   ],
   "source": [
    "from sklearn.metrics import accuracy_score, precision_score, recall_score, f1_score\n",
    "from sklearn.ensemble import RandomForestClassifier\n",
    "from sklearn.linear_model import LogisticRegression\n",
    "from sklearn.svm import SVC\n",
    "from sklearn.neighbors import KNeighborsClassifier\n",
    "from sklearn.naive_bayes import GaussianNB\n",
    "from sklearn.tree import DecisionTreeClassifier\n",
    "import catboost\n",
    "# training with CatBoostClassifier\n",
    "from catboost import CatBoostClassifier\n",
    "models = {\n",
    "    'Random Forest': RandomForestClassifier(),\n",
    "    'Logistic Regression': LogisticRegression(),\n",
    "    'SVM': SVC(),\n",
    "    'K-Nearest Neighbors': KNeighborsClassifier(),\n",
    "    'Naive Bayes': GaussianNB(),\n",
    "    'Decision Tree': DecisionTreeClassifier(),\n",
    "    'CatBoost': CatBoostClassifier(verbose=0)\n",
    "}\n",
    "\n",
    "trained_models = {}\n",
    "for model_name, model in models.items():\n",
    "    model.fit(X_train.toarray(), y_train)\n",
    "    trained_models[model_name] = model\n",
    "\n",
    "# Step 3: Make predictions\n",
    "predictions = {}\n",
    "for model_name, model in trained_models.items():\n",
    "    y_pred = model.predict(X_test.toarray())\n",
    "    predictions[model_name] = y_pred\n",
    "\n",
    "# Step 4: Evaluate the models\n",
    "classification_scores = {}\n",
    "for model_name, y_pred in predictions.items():\n",
    "    accuracy = accuracy_score(y_test, y_pred)\n",
    "    precision = precision_score(y_test, y_pred)\n",
    "    recall = recall_score(y_test, y_pred)\n",
    "    f1 = f1_score(y_test, y_pred)\n",
    "    \n",
    "    classification_scores[model_name] = {\n",
    "        'Accuracy': accuracy,\n",
    "        'Precision': precision,\n",
    "        'Recall': recall,\n",
    "        'F1-Score': f1\n",
    "    }\n",
    "\n",
    "# Print classification scores for each model\n",
    "for model_name, scores in classification_scores.items():\n",
    "    print(f\"Model: {model_name}\")\n",
    "    for metric, score in scores.items():\n",
    "        print(f\"{metric}: {score:.4f}\")\n",
    "    print()\n"
   ]
  },
  {
   "cell_type": "code",
   "execution_count": null,
   "id": "44eec6a4",
   "metadata": {},
   "outputs": [],
   "source": []
  },
  {
   "cell_type": "code",
   "execution_count": null,
   "id": "0be7a313",
   "metadata": {},
   "outputs": [],
   "source": []
  },
  {
   "cell_type": "code",
   "execution_count": null,
   "id": "0d188b4b",
   "metadata": {},
   "outputs": [],
   "source": []
  },
  {
   "cell_type": "code",
   "execution_count": null,
   "id": "a3b9d1a8",
   "metadata": {},
   "outputs": [],
   "source": []
  },
  {
   "cell_type": "code",
   "execution_count": null,
   "id": "eb6d69d0",
   "metadata": {},
   "outputs": [],
   "source": []
  },
  {
   "cell_type": "code",
   "execution_count": null,
   "id": "3d536d07",
   "metadata": {},
   "outputs": [],
   "source": []
  },
  {
   "cell_type": "code",
   "execution_count": null,
   "id": "0ca80fad",
   "metadata": {},
   "outputs": [],
   "source": []
  },
  {
   "cell_type": "code",
   "execution_count": null,
   "id": "afddded2",
   "metadata": {},
   "outputs": [],
   "source": []
  },
  {
   "cell_type": "code",
   "execution_count": null,
   "id": "27472eab",
   "metadata": {},
   "outputs": [],
   "source": []
  },
  {
   "cell_type": "code",
   "execution_count": null,
   "id": "2777fd94",
   "metadata": {},
   "outputs": [],
   "source": []
  },
  {
   "cell_type": "code",
   "execution_count": null,
   "id": "0bf00d60",
   "metadata": {},
   "outputs": [],
   "source": []
  },
  {
   "cell_type": "code",
   "execution_count": null,
   "id": "1c2cd63a",
   "metadata": {},
   "outputs": [],
   "source": []
  },
  {
   "cell_type": "code",
   "execution_count": null,
   "id": "9f78e06b",
   "metadata": {},
   "outputs": [],
   "source": []
  },
  {
   "cell_type": "code",
   "execution_count": null,
   "id": "09c6525c",
   "metadata": {},
   "outputs": [],
   "source": []
  },
  {
   "cell_type": "code",
   "execution_count": null,
   "id": "495c71d2",
   "metadata": {},
   "outputs": [],
   "source": []
  },
  {
   "cell_type": "code",
   "execution_count": null,
   "id": "78090818",
   "metadata": {},
   "outputs": [],
   "source": []
  },
  {
   "cell_type": "code",
   "execution_count": null,
   "id": "5eb9bba3",
   "metadata": {},
   "outputs": [],
   "source": []
  },
  {
   "cell_type": "code",
   "execution_count": null,
   "id": "3f2de7ce",
   "metadata": {},
   "outputs": [],
   "source": [
    "# SOME OTHER TRIES"
   ]
  },
  {
   "cell_type": "code",
   "execution_count": 267,
   "id": "d9e06722",
   "metadata": {},
   "outputs": [
    {
     "name": "stdout",
     "output_type": "stream",
     "text": [
      "0\n",
      "100\n",
      "200\n",
      "300\n",
      "400\n",
      "500\n",
      "600\n",
      "700\n",
      "800\n",
      "900\n",
      "1000\n",
      "1100\n",
      "1200\n",
      "1300\n",
      "1400\n",
      "1500\n",
      "1600\n",
      "1700\n",
      "1800\n",
      "1900\n"
     ]
    }
   ],
   "source": [
    "feature_names = tfidf_vectorizer.get_feature_names_out()\n",
    "unique_dict = {}\n",
    "for i in range(len(sentences)):\n",
    "    \n",
    "    if(i%100==0): print(i)\n",
    "    for j, word in enumerate(feature_names):\n",
    "        tfidf_value = X[i, j]\n",
    "        if(tfidf_value!=0):\n",
    "            unique_dict[word] = tfidf_value"
   ]
  },
  {
   "cell_type": "code",
   "execution_count": null,
   "id": "c475e00a",
   "metadata": {},
   "outputs": [],
   "source": []
  },
  {
   "cell_type": "code",
   "execution_count": 100,
   "id": "05906076",
   "metadata": {},
   "outputs": [],
   "source": [
    "simplified_pos_tags = [[tag[1][0] if tag[1][0] in ['N', 'V', 'J'] else 'Other' for tag in doc] for doc in pos_tagged_documents]\n",
    "\n",
    "# Join words and POS tags to create combined tokens\n",
    "list_sent = [sentence for sentence,_ in corpus_pos]\n",
    "tokenized_documents = [word_tokenize(doc) for doc in list_sent]\n",
    "pos_tagged_documents = [pos_tag(tokens) for tokens in tokenized_documents]\n",
    "\n",
    "combined_tokens = [' '.join([word, pos]) for words, poses in zip(tokenized_documents, simplified_pos_tags) for word, pos in zip(words, poses)]"
   ]
  },
  {
   "cell_type": "code",
   "execution_count": 80,
   "id": "d1453446",
   "metadata": {},
   "outputs": [],
   "source": [
    "unique_list = []\n",
    "for key,items in unique_dict_var.items():\n",
    "    unique_list.append(items)"
   ]
  },
  {
   "cell_type": "code",
   "execution_count": 273,
   "id": "37db0e85",
   "metadata": {},
   "outputs": [
    {
     "name": "stdout",
     "output_type": "stream",
     "text": [
      "0\n"
     ]
    }
   ],
   "source": [
    "unique_dict_var = {}\n",
    "i=0\n",
    "for key, value in unique_dict.items():\n",
    "    list_1 = []\n",
    "    if(i%2==0): \n",
    "        print(i)\n",
    "        i+=1\n",
    "    list_1.append(value)\n",
    "    A = [1,3,4,5]\n",
    "    tag_1 = [dict_to_list[j] for j in A]\n",
    "    list_1.append([emmision_probability(key, tag) for tag in tag_1])\n",
    "    unique_dict_var[key] = list_1"
   ]
  },
  {
   "cell_type": "code",
   "execution_count": 83,
   "id": "0b56cde4",
   "metadata": {},
   "outputs": [],
   "source": [
    "word_number = {}\n",
    "n=1\n",
    "for key,items in unique_dict.items():\n",
    "    word_number[key] = n\n",
    "    n+=1"
   ]
  },
  {
   "cell_type": "code",
   "execution_count": null,
   "id": "710d1fad",
   "metadata": {},
   "outputs": [],
   "source": [
    "X=[]\n",
    "for sentence in sentences:\n",
    "    vector = unique_list.copy()\n",
    "    for word in sentence:\n",
    "        if(word in unique_dict.keys() == False):\n",
    "            vector[word_number[word]] = [0]*(len(final_tags)+1)\n",
    "    "
   ]
  },
  {
   "cell_type": "code",
   "execution_count": 52,
   "id": "b901eba4",
   "metadata": {},
   "outputs": [
    {
     "data": {
      "text/plain": [
       "26022"
      ]
     },
     "execution_count": 52,
     "metadata": {},
     "output_type": "execute_result"
    }
   ],
   "source": [
    "unique_dict"
   ]
  },
  {
   "cell_type": "code",
   "execution_count": null,
   "id": "e063201d",
   "metadata": {},
   "outputs": [],
   "source": []
  },
  {
   "cell_type": "code",
   "execution_count": null,
   "id": "c84c98f5",
   "metadata": {},
   "outputs": [],
   "source": []
  },
  {
   "cell_type": "code",
   "execution_count": null,
   "id": "303a2e6b",
   "metadata": {},
   "outputs": [],
   "source": [
    "unique_dict = {}\n",
    "for i in range(2000):\n",
    "    "
   ]
  },
  {
   "cell_type": "code",
   "execution_count": 32,
   "id": "701deed7",
   "metadata": {},
   "outputs": [],
   "source": [
    "tfidf_values = X.toarray()\n",
    "feature_names = tfidf_vectorizer.get_feature_names_out()\n",
    "\n",
    "unique_words_tfidf = {}\n",
    "\n",
    "# Populate the dictionary with unique words and their TF-IDF values\n",
    "for j, word in enumerate(feature_names):\n",
    "    tfidf_values_for_word = tfidf_values[:, j]\n",
    "    unique_words_tfidf[word] = list(tfidf_values_for_word)\n"
   ]
  },
  {
   "cell_type": "code",
   "execution_count": null,
   "id": "2a21df5f",
   "metadata": {},
   "outputs": [],
   "source": [
    "unique_words_tfidf"
   ]
  },
  {
   "cell_type": "code",
   "execution_count": 68,
   "id": "a81c0b98",
   "metadata": {},
   "outputs": [
    {
     "name": "stdout",
     "output_type": "stream",
     "text": [
      "Collecting xgboost\n",
      "  Downloading xgboost-2.0.0-py3-none-win_amd64.whl (99.7 MB)\n",
      "     ---------------------------------------- 99.7/99.7 MB 3.0 MB/s eta 0:00:00\n",
      "Requirement already satisfied: scipy in d:\\anaconda\\lib\\site-packages (from xgboost) (1.9.1)\n",
      "Requirement already satisfied: numpy in d:\\anaconda\\lib\\site-packages (from xgboost) (1.21.5)\n",
      "Installing collected packages: xgboost\n",
      "Successfully installed xgboost-2.0.0\n"
     ]
    }
   ],
   "source": [
    "!pip install xgboost"
   ]
  },
  {
   "cell_type": "code",
   "execution_count": 31,
   "id": "4da78c77",
   "metadata": {},
   "outputs": [
    {
     "name": "stdout",
     "output_type": "stream",
     "text": [
      "  (0, 2038)\t0.46847214607810606\n",
      "  (0, 3250)\t0.4615748873552156\n",
      "  (0, 3929)\t0.29183767244813036\n",
      "  (0, 2991)\t0.3543046043529594\n",
      "  (0, 4880)\t0.5973118883685008\n"
     ]
    }
   ],
   "source": [
    "print(train_data[5])"
   ]
  },
  {
   "cell_type": "code",
   "execution_count": 66,
   "id": "dee4eac4",
   "metadata": {},
   "outputs": [
    {
     "data": {
      "text/plain": [
       "(45258, 100)"
      ]
     },
     "execution_count": 66,
     "metadata": {},
     "output_type": "execute_result"
    }
   ],
   "source": [
    "Xpca.shape"
   ]
  },
  {
   "cell_type": "code",
   "execution_count": 98,
   "id": "4f193771",
   "metadata": {},
   "outputs": [
    {
     "data": {
      "text/plain": [
       "0.6875"
      ]
     },
     "execution_count": 98,
     "metadata": {},
     "output_type": "execute_result"
    }
   ],
   "source": []
  },
  {
   "cell_type": "code",
   "execution_count": 68,
   "id": "10c480eb",
   "metadata": {},
   "outputs": [
    {
     "ename": "ValueError",
     "evalue": "not enough values to unpack (expected 2, got 1)",
     "output_type": "error",
     "traceback": [
      "\u001b[1;31m---------------------------------------------------------------------------\u001b[0m",
      "\u001b[1;31mValueError\u001b[0m                                Traceback (most recent call last)",
      "\u001b[1;32m~\\AppData\\Local\\Temp\\ipykernel_24240\\2510236751.py\u001b[0m in \u001b[0;36m<module>\u001b[1;34m\u001b[0m\n\u001b[1;32m----> 1\u001b[1;33m \u001b[0mlist_sentences_test\u001b[0m \u001b[1;33m=\u001b[0m \u001b[1;33m[\u001b[0m\u001b[0msentence\u001b[0m \u001b[1;32mfor\u001b[0m \u001b[0msentence\u001b[0m\u001b[1;33m,\u001b[0m\u001b[0m_\u001b[0m \u001b[1;32min\u001b[0m \u001b[0mval_data\u001b[0m\u001b[1;33m]\u001b[0m\u001b[1;33m\u001b[0m\u001b[1;33m\u001b[0m\u001b[0m\n\u001b[0m\u001b[0;32m      2\u001b[0m \u001b[0mX_val_tfidf\u001b[0m \u001b[1;33m=\u001b[0m \u001b[0mtfidf_vectorizer\u001b[0m\u001b[1;33m.\u001b[0m\u001b[0mtransform\u001b[0m\u001b[1;33m(\u001b[0m\u001b[0mlist_sentences_test\u001b[0m\u001b[1;33m)\u001b[0m\u001b[1;33m\u001b[0m\u001b[1;33m\u001b[0m\u001b[0m\n",
      "\u001b[1;32m~\\AppData\\Local\\Temp\\ipykernel_24240\\2510236751.py\u001b[0m in \u001b[0;36m<listcomp>\u001b[1;34m(.0)\u001b[0m\n\u001b[1;32m----> 1\u001b[1;33m \u001b[0mlist_sentences_test\u001b[0m \u001b[1;33m=\u001b[0m \u001b[1;33m[\u001b[0m\u001b[0msentence\u001b[0m \u001b[1;32mfor\u001b[0m \u001b[0msentence\u001b[0m\u001b[1;33m,\u001b[0m\u001b[0m_\u001b[0m \u001b[1;32min\u001b[0m \u001b[0mval_data\u001b[0m\u001b[1;33m]\u001b[0m\u001b[1;33m\u001b[0m\u001b[1;33m\u001b[0m\u001b[0m\n\u001b[0m\u001b[0;32m      2\u001b[0m \u001b[0mX_val_tfidf\u001b[0m \u001b[1;33m=\u001b[0m \u001b[0mtfidf_vectorizer\u001b[0m\u001b[1;33m.\u001b[0m\u001b[0mtransform\u001b[0m\u001b[1;33m(\u001b[0m\u001b[0mlist_sentences_test\u001b[0m\u001b[1;33m)\u001b[0m\u001b[1;33m\u001b[0m\u001b[1;33m\u001b[0m\u001b[0m\n",
      "\u001b[1;31mValueError\u001b[0m: not enough values to unpack (expected 2, got 1)"
     ]
    }
   ],
   "source": [
    "list_sentences_test = [sentence for sentence,_ in val_data]\n",
    "X_val_tfidf = tfidf_vectorizer.transform(list_sentences_test)"
   ]
  },
  {
   "cell_type": "code",
   "execution_count": 76,
   "id": "64f8729e",
   "metadata": {},
   "outputs": [
    {
     "name": "stdout",
     "output_type": "stream",
     "text": [
      "Vector representation of 'document':\n",
      "[-0.24991283 -1.6413478   0.7961875   1.3395231  -0.01218642 -0.68260735\n",
      "  1.6818783   2.517201   -3.1405737   0.38644934]\n"
     ]
    }
   ],
   "source": [
    "from gensim.models import Word2Vec\n",
    "from nltk.tokenize import word_tokenize\n",
    "\n",
    "sentences = list_sentences.copy()\n",
    "\n",
    "tokenized_sentences = [word_tokenize(sentence.lower()) for sentence in sentences]\n",
    "\n",
    "model = Word2Vec(tokenized_sentences, vector_size=10, window=5, min_count=1, sg=0)\n",
    "\n",
    "vector = model.wv['boy']\n",
    "print(\"Vector representation of 'document':\")\n",
    "print(vector)"
   ]
  },
  {
   "cell_type": "code",
   "execution_count": null,
   "id": "73d99c5b",
   "metadata": {},
   "outputs": [],
   "source": [
    "tokens = word_tokenize(sent)\n",
    "print('Word Tokens: ',tokens)\n",
    "print()\n",
    "\n",
    "print('POS Tags: ', pos_tag(tokens))"
   ]
  },
  {
   "cell_type": "code",
   "execution_count": null,
   "id": "173f3d35",
   "metadata": {},
   "outputs": [],
   "source": [
    "from nltk.stem import PorterStemmer\n",
    "\n",
    "nltk.download('omw-1.4')\n",
    "stemmer = PorterStemmer()"
   ]
  },
  {
   "cell_type": "code",
   "execution_count": 704,
   "id": "4bff776d",
   "metadata": {},
   "outputs": [
    {
     "name": "stdout",
     "output_type": "stream",
     "text": [
      "TfidfVectorizer Vocabulary:\n",
      "['00' '000' '007' ... 'zwigoff' 'zycie' 'zzzzzzz']\n",
      "\n",
      "TfidfVectorizer Vectorized Data:\n",
      "\n",
      "it does not need to be seen twice : its every detail and implication can be absorbed in one viewing .\n",
      "[[0. 0. 0. ... 0. 0. 0.]]\n",
      "\n"
     ]
    }
   ],
   "source": [
    "from sklearn.feature_extraction.text import TfidfVectorizer\n",
    "\n",
    "sentences = [sentence for sentence, _ in train_data]\n",
    "\n",
    "tfidf_vectorizer = TfidfVectorizer()\n",
    "X_tfidf = tfidf_vectorizer.fit_transform(sentences)\n",
    "\n",
    "print(\"TfidfVectorizer Vocabulary:\")\n",
    "print(tfidf_vectorizer.get_feature_names_out())\n",
    "print()\n",
    "\n",
    "print(\"TfidfVectorizer Vectorized Data:\")\n",
    "print()\n",
    "# print(X_tfidf.toarray())\n",
    "\n",
    "print(sentences[0])\n",
    "print(X_tfidf[0].toarray())\n",
    "print()"
   ]
  },
  {
   "cell_type": "code",
   "execution_count": 5,
   "id": "76fb52ac",
   "metadata": {},
   "outputs": [
    {
     "name": "stderr",
     "output_type": "stream",
     "text": [
      "[nltk_data] Downloading package punkt to\n",
      "[nltk_data]     C:\\Users\\rouna\\AppData\\Roaming\\nltk_data...\n",
      "[nltk_data]   Package punkt is already up-to-date!\n",
      "[nltk_data] Downloading package averaged_perceptron_tagger to\n",
      "[nltk_data]     C:\\Users\\rouna\\AppData\\Roaming\\nltk_data...\n",
      "[nltk_data]   Package averaged_perceptron_tagger is already up-to-\n",
      "[nltk_data]       date!\n"
     ]
    },
    {
     "data": {
      "text/plain": [
       "True"
      ]
     },
     "execution_count": 5,
     "metadata": {},
     "output_type": "execute_result"
    }
   ],
   "source": [
    "from nltk.tokenize import sent_tokenize, word_tokenize\n",
    "from nltk import pos_tag\n",
    "\n",
    "nltk.download('punkt')\n",
    "nltk.download('averaged_perceptron_tagger')"
   ]
  },
  {
   "cell_type": "code",
   "execution_count": 634,
   "id": "e2073760",
   "metadata": {},
   "outputs": [
    {
     "name": "stdout",
     "output_type": "stream",
     "text": [
      "Sentence Tokens:  ['My name is Rounak Mandal.', 'will']\n",
      "\n",
      "Word Tokens:  ['My', 'name', 'is', 'Rounak', 'Mandal', '.', 'will']\n",
      "\n",
      "POS Tags:  [('My', 'PRP$'), ('name', 'NN'), ('is', 'VBZ'), ('Rounak', 'NNP'), ('Mandal', 'NNP'), ('.', '.'), ('will', 'MD')]\n"
     ]
    }
   ],
   "source": [
    "sent = 'My name is Rounak Mandal. will'\n",
    "\n",
    "tokens = sent_tokenize(sent)\n",
    "print('Sentence Tokens: ',tokens)\n",
    "print()\n",
    "\n",
    "tokens = word_tokenize(sent)\n",
    "print('Word Tokens: ',tokens)\n",
    "print()\n",
    "\n",
    "print('POS Tags: ', pos_tag(tokens))"
   ]
  },
  {
   "cell_type": "code",
   "execution_count": 37,
   "id": "db4639ca",
   "metadata": {},
   "outputs": [
    {
     "name": "stderr",
     "output_type": "stream",
     "text": [
      "[nltk_data] Downloading package wordnet to\n",
      "[nltk_data]     C:\\Users\\rouna\\AppData\\Roaming\\nltk_data...\n",
      "[nltk_data]   Package wordnet is already up-to-date!\n",
      "[nltk_data] Downloading package omw-1.4 to\n",
      "[nltk_data]     C:\\Users\\rouna\\AppData\\Roaming\\nltk_data...\n"
     ]
    }
   ],
   "source": [
    "from nltk.stem import PorterStemmer, WordNetLemmatizer\n",
    "\n",
    "nltk.download('wordnet')\n",
    "nltk.download('omw-1.4')\n",
    "stemmer = PorterStemmer()"
   ]
  },
  {
   "cell_type": "code",
   "execution_count": 50,
   "id": "be4deb55",
   "metadata": {},
   "outputs": [
    {
     "name": "stdout",
     "output_type": "stream",
     "text": [
      "['i', 'am', 'studi', 'natur', 'languag', 'process', '.', 'i', 'also', 'studi', 'natur']\n"
     ]
    }
   ],
   "source": [
    "sent = 'I am studying Natural Language Processing. I also study nature'\n",
    "words = word_tokenize(sent)\n",
    "\n",
    "stemmed_words = [stemmer.stem(word) for word in words]\n",
    "\n",
    "print(stemmed_words)"
   ]
  },
  {
   "cell_type": "code",
   "execution_count": 49,
   "id": "64eba8ce",
   "metadata": {},
   "outputs": [
    {
     "name": "stdout",
     "output_type": "stream",
     "text": [
      "['I', 'am', 'studying', 'Natural', 'Language', 'Processing', '.', 'I', 'also', 'study', 'nature']\n"
     ]
    }
   ],
   "source": [
    "lemmatizer = WordNetLemmatizer()\n",
    "\n",
    "lemmatized_words = [lemmatizer.lemmatize(word, pos='n') for word in words]\n",
    "\n",
    "print(lemmatized_words)"
   ]
  },
  {
   "cell_type": "code",
   "execution_count": 51,
   "id": "0ea800b4",
   "metadata": {},
   "outputs": [
    {
     "name": "stdout",
     "output_type": "stream",
     "text": [
      "TfidfVectorizer Vocabulary:\n",
      "['and' 'document' 'first' 'is' 'one' 'second' 'the' 'third' 'this']\n",
      "\n",
      "TfidfVectorizer Vectorized Data:\n",
      "\n",
      "This is the first document.\n",
      "[[0.         0.46979139 0.58028582 0.38408524 0.         0.\n",
      "  0.38408524 0.         0.38408524]]\n",
      "\n",
      "This document is the second document.\n",
      "[[0.         0.6876236  0.         0.28108867 0.         0.53864762\n",
      "  0.28108867 0.         0.28108867]]\n",
      "\n",
      "And this is the third one.\n",
      "[[0.51184851 0.         0.         0.26710379 0.51184851 0.\n",
      "  0.26710379 0.51184851 0.26710379]]\n",
      "\n",
      "Is this the first document?\n",
      "[[0.         0.46979139 0.58028582 0.38408524 0.         0.\n",
      "  0.38408524 0.         0.38408524]]\n",
      "\n"
     ]
    }
   ],
   "source": [
    "from sklearn.feature_extraction.text import TfidfVectorizer\n",
    "\n",
    "sentences = [\n",
    "    \"This is the first document.\",\n",
    "    \"This document is the second document.\",\n",
    "    \"And this is the third one.\",\n",
    "    \"Is this the first document?\"\n",
    "]\n",
    "\n",
    "tfidf_vectorizer = TfidfVectorizer()\n",
    "X_tfidf = tfidf_vectorizer.fit_transform(sentences)\n",
    "\n",
    "print(\"TfidfVectorizer Vocabulary:\")\n",
    "print(tfidf_vectorizer.get_feature_names_out())\n",
    "print()\n",
    "\n",
    "print(\"TfidfVectorizer Vectorized Data:\")\n",
    "print()\n",
    "# print(X_tfidf.toarray())\n",
    "for i in range(len(sentences)):\n",
    "    print(sentences[i])\n",
    "    print(X_tfidf[i].toarray())\n",
    "    print()"
   ]
  },
  {
   "cell_type": "code",
   "execution_count": 54,
   "id": "6e35bf52",
   "metadata": {},
   "outputs": [
    {
     "name": "stdout",
     "output_type": "stream",
     "text": [
      "Vector representation of 'document':\n",
      "[-0.00535778  0.00236474  0.05104287  0.09009314 -0.09300297 -0.07115427\n",
      "  0.06456409  0.08971071 -0.05015172 -0.03761639]\n"
     ]
    }
   ],
   "source": [
    "from gensim.models import Word2Vec\n",
    "from nltk.tokenize import word_tokenize\n",
    "\n",
    "sentences = [\n",
    "    \"This is the first document.\",\n",
    "    \"This document is the second document.\",\n",
    "    \"And this is the third one.\",\n",
    "    \"Is this the first document?\"\n",
    "]\n",
    "\n",
    "tokenized_sentences = [word_tokenize(sentence.lower()) for sentence in sentences]\n",
    "\n",
    "model = Word2Vec(tokenized_sentences, vector_size=10, window=5, min_count=1, sg=0)\n",
    "\n",
    "vector = model.wv['document']\n",
    "print(\"Vector representation of 'document':\")\n",
    "print(vector)"
   ]
  },
  {
   "cell_type": "code",
   "execution_count": null,
   "id": "87df5bed",
   "metadata": {},
   "outputs": [],
   "source": []
  }
 ],
 "metadata": {
  "kernelspec": {
   "display_name": "Python 3 (ipykernel)",
   "language": "python",
   "name": "python3"
  },
  "language_info": {
   "codemirror_mode": {
    "name": "ipython",
    "version": 3
   },
   "file_extension": ".py",
   "mimetype": "text/x-python",
   "name": "python",
   "nbconvert_exporter": "python",
   "pygments_lexer": "ipython3",
   "version": "3.9.13"
  }
 },
 "nbformat": 4,
 "nbformat_minor": 5
}
